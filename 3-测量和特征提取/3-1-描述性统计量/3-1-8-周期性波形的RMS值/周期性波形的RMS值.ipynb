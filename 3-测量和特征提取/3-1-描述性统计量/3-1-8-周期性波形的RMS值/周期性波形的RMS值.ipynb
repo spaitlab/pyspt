{
 "cells": [
  {
   "cell_type": "markdown",
   "id": "5705d4e3",
   "metadata": {},
   "source": [
    "# **<font size=4 color=#BB3D00 face=微软雅黑>周期波形的RMS值</font>**"
   ]
  },
  {
   "cell_type": "markdown",
   "id": "ba199e3b",
   "metadata": {},
   "source": [
    "## **<font size=3  face=微软雅黑>※Matlab案例</font>** "
   ]
  },
  {
   "cell_type": "markdown",
   "id": "fc5087b9",
   "metadata": {},
   "source": [
    "网址：https://ww2.mathworks.cn/help/signal/ug/rms-value-of-periodic-waveforms.html     \n",
    "描述：本案例由1个示例构成。\n",
    "### - <font color=DarkOrChid size=3>示例：如何查找正弦波、方波和矩形脉冲序列的均方根 （RMS） 值</font>"
   ]
  },
  {
   "cell_type": "markdown",
   "id": "3a59fea3",
   "metadata": {},
   "source": [
    "## **<font size=3 face=微软雅黑>※Python案例</font>**"
   ]
  },
  {
   "cell_type": "markdown",
   "id": "788aada2",
   "metadata": {},
   "source": [
    "针对以上案例，采用Python语言实现。"
   ]
  },
  {
   "cell_type": "markdown",
   "id": "4451fd40",
   "metadata": {},
   "source": [
    "### - <font color=DarkOrChid size=3>示例：如何查找正弦波、方波和矩形脉冲序列的均方根 （RMS） 值</font>"
   ]
  },
  {
   "cell_type": "markdown",
   "id": "d1390d6d",
   "metadata": {},
   "source": [
    "本例中的波形是连续时间对应物的离散时间版本。     \n",
    "rms创建频率为p/4 rad/sample。信号的长度为16个样本，等于正弦波的两个周期。"
   ]
  },
  {
   "cell_type": "code",
   "execution_count": 1,
   "id": "315b21a5",
   "metadata": {},
   "outputs": [],
   "source": [
    "import numpy as np\n",
    "import math\n",
    "from sympy import *\n",
    "from scipy import fftpack,signal\n",
    "import matplotlib.pyplot as plt\n",
    "%matplotlib inline"
   ]
  },
  {
   "cell_type": "code",
   "execution_count": 2,
   "id": "a40014c9",
   "metadata": {},
   "outputs": [],
   "source": [
    "n = np.arange(16)\n",
    "x = np.cos(np.pi / 4 * n)"
   ]
  },
  {
   "cell_type": "code",
   "execution_count": 3,
   "id": "6257becf",
   "metadata": {},
   "outputs": [
    {
     "data": {
      "text/plain": [
       "'\\n均方根值 反映的是有效值而不是平均值\\n'"
      ]
     },
     "execution_count": 3,
     "metadata": {},
     "output_type": "execute_result"
    }
   ],
   "source": [
    "def get_rms(records):\n",
    "    return math.sqrt(np.sum(np.power(records, 2)) / len(records))\n",
    "\"\"\"\n",
    "均方根值 反映的是有效值而不是平均值\n",
    "\"\"\""
   ]
  },
  {
   "cell_type": "code",
   "execution_count": 4,
   "id": "77645cde",
   "metadata": {},
   "outputs": [],
   "source": [
    "def rect_square_wave(origin=0, size=10, ratio=0.25, x_unit=0.1, y0=0, y1=1):\n",
    "    d = []\n",
    "    for  start in np.arange(origin-0.0125, origin + x_unit * size, x_unit):\n",
    "        d.append((start, y0))\n",
    "        middle = start + x_unit * ratio\n",
    "        d.append((middle, y0))\n",
    "        d.append((middle, y1))\n",
    "        end = start + x_unit\n",
    "        d.append((end, y1))\n",
    "\n",
    "    return d\n"
   ]
  },
  {
   "cell_type": "code",
   "execution_count": 5,
   "id": "414c294a",
   "metadata": {},
   "outputs": [],
   "source": [
    "rmsval = get_rms(x)"
   ]
  },
  {
   "cell_type": "code",
   "execution_count": 6,
   "id": "07b9aafc",
   "metadata": {},
   "outputs": [
    {
     "data": {
      "text/plain": [
       "(-2.5, 2.5)"
      ]
     },
     "execution_count": 6,
     "metadata": {},
     "output_type": "execute_result"
    },
    {
     "data": {
      "image/png": "[encoded data removed]",
      "text/plain": [
       "<Figure size 432x288 with 1 Axes>"
      ]
     },
     "metadata": {
      "needs_background": "light"
     },
     "output_type": "display_data"
    }
   ],
   "source": [
    "t = np.linspace(0, 1, 100, endpoint=False)\n",
    "x = 2 * signal.square(2 * np.pi * 10 * t)\n",
    "fig = plt.figure()\n",
    "ax1 = fig.add_subplot(111)\n",
    "ax1.stem(t, x, markerfmt='o')\n",
    "plt.xlim(0, 1)\n",
    "plt.ylim(-2.5, 2.5)"
   ]
  },
  {
   "cell_type": "code",
   "execution_count": 7,
   "id": "59392ce9",
   "metadata": {},
   "outputs": [
    {
     "data": {
      "image/png": "[encoded data removed]",
      "text/plain": [
       "<Figure size 432x288 with 1 Axes>"
      ]
     },
     "metadata": {
      "needs_background": "light"
     },
     "output_type": "display_data"
    }
   ],
   "source": [
    "d = np.array(rect_square_wave(origin=0, size=10, ratio=0.25, x_unit=0.1, y0=1, y1=0))\n",
    "figure = plt.figure()\n",
    "plt.plot(d[:, 0], d[:, 1])\n",
    "plt.xlim(0, 1)\n",
    "plt.show()"
   ]
  },
  {
   "cell_type": "code",
   "execution_count": null,
   "id": "38988410",
   "metadata": {},
   "outputs": [],
   "source": []
  }
 ],
 "metadata": {
  "kernelspec": {
   "display_name": "Python 3 (ipykernel)",
   "language": "python",
   "name": "python3"
  },
  "language_info": {
   "codemirror_mode": {
    "name": "ipython",
    "version": 3
   },
   "file_extension": ".py",
   "mimetype": "text/x-python",
   "name": "python",
   "nbconvert_exporter": "python",
   "pygments_lexer": "ipython3",
   "version": "3.9.12"
  }
 },
 "nbformat": 4,
 "nbformat_minor": 5
}
