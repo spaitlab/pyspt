{
 "cells": [
  {
   "cell_type": "markdown",
   "id": "517d977e",
   "metadata": {},
   "source": [
    "# 幅值估计和填零\n",
    "https://ww2.mathworks.cn/help/signal/ug/amplitude-estimation-and-zero-padding.html"
   ]
  },
  {
   "cell_type": "code",
   "execution_count": 4,
   "id": "d3561e15",
   "metadata": {},
   "outputs": [],
   "source": [
    "from numpy.fft import fft\n",
    "import numpy as np\n",
    "from numpy import ndarray, cos, sin, abs\n",
    "import matplotlib.pyplot as plt"
   ]
  },
  {
   "cell_type": "markdown",
   "id": "b0cddffd",
   "metadata": {},
   "source": [
    "## 数据的生成"
   ]
  },
  {
   "cell_type": "code",
   "execution_count": 5,
   "id": "ca3323a2",
   "metadata": {},
   "outputs": [],
   "source": [
    "def generate_data():\n",
    "    # 生成时间序列(0到1之间生成1000个数据点)\n",
    "    t = np.arange(0, 1, 0.001)\n",
    "    # 生成信号(broadcast机制)\n",
    "    data = cos(2 * np.pi * 100 * t) + sin(2 * np.pi * 202.5 * t)\n",
    "    return data"
   ]
  },
  {
   "cell_type": "markdown",
   "id": "6c79ae90",
   "metadata": {},
   "source": [
    "## 获取信号的幅频"
   ]
  },
  {
   "cell_type": "code",
   "execution_count": 6,
   "id": "9afce853",
   "metadata": {},
   "outputs": [],
   "source": [
    "def get_freq_amplitude(input_data: ndarray, N, fs):\n",
    "    # 对输入信号进行fft变换得到双边频谱\n",
    "    data_dft = fft(input_data, N)\n",
    "    # 数据点数\n",
    "    data_num = len(input_data)\n",
    "    # 截取一半(此处根据python和matlab检索不同来做一些调整)\n",
    "    data_dft = data_dft[0:int(N / 2) + 1]\n",
    "    # 修改一下幅度\n",
    "    data_dft = data_dft / data_num\n",
    "    data_dft[1:] = 2 * data_dft[1:]\n",
    "    # 配置频率横轴(python生成等比序列是不包含结束点的,因此加一个特别小的数)\n",
    "    freq = np.arange(0.0, fs / 2 + 0.0001, fs / N)\n",
    "    data_dft = abs(data_dft)\n",
    "    return data_dft, freq\n",
    "\n",
    "\n",
    "def plot_signal_freq_amplitude(data_dft, freq):\n",
    "    fig = plt.figure()\n",
    "    plt.plot(freq, data_dft)\n",
    "    plt.xlabel(\"Hz\")\n",
    "    plt.ylabel(\"Amplitude\")\n",
    "    plt.show()\n"
   ]
  },
  {
   "cell_type": "code",
   "execution_count": 7,
   "id": "41aa66b0",
   "metadata": {},
   "outputs": [
    {
     "data": {
      "image/png": "[encoded data removed]",
      "text/plain": [
       "<Figure size 432x288 with 1 Axes>"
      ]
     },
     "metadata": {
      "needs_background": "light"
     },
     "output_type": "display_data"
    },
    {
     "data": {
      "image/png": "[encoded data removed]",
      "text/plain": [
       "<Figure size 432x288 with 1 Axes>"
      ]
     },
     "metadata": {
      "needs_background": "light"
     },
     "output_type": "display_data"
    }
   ],
   "source": [
    "if __name__ == '__main__':\n",
    "    # 设置采样率\n",
    "    fs = 1000\n",
    "    # 构造数据\n",
    "    data = generate_data()\n",
    "    # 数据点数\n",
    "    N = len(data)\n",
    "    # 获取补零前的幅频以及对应的频率轴\n",
    "    data_dft, freq = get_freq_amplitude(data, N, fs)\n",
    "    # 绘制波形\n",
    "    plot_signal_freq_amplitude(data_dft, freq)\n",
    "    # 获取补零后的序列的幅频以及对应的频率轴\n",
    "    data_padding_dft, freq_padding = get_freq_amplitude(data, 2 * N, fs)\n",
    "    # 绘制波形\n",
    "    plot_signal_freq_amplitude(data_padding_dft, freq_padding)"
   ]
  },
  {
   "cell_type": "code",
   "execution_count": null,
   "id": "529d6b78",
   "metadata": {},
   "outputs": [],
   "source": []
  }
 ],
 "metadata": {
  "kernelspec": {
   "display_name": "Python 3 (ipykernel)",
   "language": "python",
   "name": "python3"
  },
  "language_info": {
   "codemirror_mode": {
    "name": "ipython",
    "version": 3
   },
   "file_extension": ".py",
   "mimetype": "text/x-python",
   "name": "python",
   "nbconvert_exporter": "python",
   "pygments_lexer": "ipython3",
   "version": "3.9.7"
  }
 },
 "nbformat": 4,
 "nbformat_minor": 5
}
