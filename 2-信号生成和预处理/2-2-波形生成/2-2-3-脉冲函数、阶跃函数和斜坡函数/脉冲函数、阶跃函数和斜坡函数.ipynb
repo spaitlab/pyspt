{
 "cells": [
  {
   "cell_type": "markdown",
   "id": "334696f5",
   "metadata": {},
   "source": [
    "# **<font size=4 color=#BB3D00 face=微软雅黑>脉冲函数、阶跃函数和斜坡函数</font>**\n"
   ]
  },
  {
   "cell_type": "markdown",
   "id": "5a129839",
   "metadata": {},
   "source": [
    "## **<font size=3  face=微软雅黑>※Matlab案例</font>** "
   ]
  },
  {
   "cell_type": "markdown",
   "id": "8ce876b3",
   "metadata": {},
   "source": [
    "网址：https://ww2.mathworks.cn/help/signal/gs/impulse-step-and-ramp-functions.html   \n",
    "描述：本案例由4个示例构成：   \n",
    "### - <font size=3 color=DarkOrChid>示例1：脉冲函数</font>\n",
    "### - <font size=3 color=DarkOrChid>示例2：阶跃函数</font>\n",
    "### - <font size=3 color=DarkOrChid>示例3：斜坡函数</font>\n",
    "### - <font size=3 color=DarkOrChid>示例4：抛物线函数</font>"
   ]
  },
  {
   "cell_type": "markdown",
   "id": "6bc6dbdd",
   "metadata": {},
   "source": [
    "## **<font size=3 face=微软雅黑>※Python案例</font>** "
   ]
  },
  {
   "cell_type": "markdown",
   "id": "31583391",
   "metadata": {},
   "source": [
    "针对以上案例，采用Python语言实现。"
   ]
  },
  {
   "cell_type": "markdown",
   "id": "2b93c73c",
   "metadata": {},
   "source": [
    "### - <font size=3 color=DarkOrChid>示例1：脉冲函数</font>"
   ]
  },
  {
   "cell_type": "code",
   "execution_count": 3,
   "id": "50ad7098",
   "metadata": {},
   "outputs": [
    {
     "data": {
      "image/png": "[encoded data removed]",
      "text/plain": [
       "<Figure size 432x288 with 1 Axes>"
      ]
     },
     "metadata": {
      "needs_background": "light"
     },
     "output_type": "display_data"
    }
   ],
   "source": [
    "import numpy as np\n",
    "import matplotlib.pyplot as plt\n",
    "\n",
    "def impulse_wave(x,c):     #在c处产生脉冲波\n",
    "     if x==c:\n",
    "          r=1.0\n",
    "     else:\n",
    "          r=0.0\n",
    "     return r\n",
    "\n",
    "x=np.linspace(-1,2,1000)\n",
    "y=np.array([impulse_wave(t,0.0) for t in x])\n",
    "plt.ylim(-0.2,1.2)\n",
    "plt.plot(x,y)\n",
    "plt.show()\n"
   ]
  },
  {
   "cell_type": "markdown",
   "id": "a5708975",
   "metadata": {},
   "source": [
    "### - <font size=3 color=DarkOrChid>示例2：阶跃函数</font>"
   ]
  },
  {
   "cell_type": "code",
   "execution_count": 4,
   "id": "d0f6d6d2",
   "metadata": {
    "scrolled": true
   },
   "outputs": [
    {
     "data": {
      "image/png": "[encoded data removed]",
      "text/plain": [
       "<Figure size 432x288 with 1 Axes>"
      ]
     },
     "metadata": {
      "needs_background": "light"
     },
     "output_type": "display_data"
    }
   ],
   "source": [
    "import numpy as np\n",
    "import matplotlib.pyplot as plt\n",
    "\n",
    "def unitstep_wave(x,c):     #在c处产生阶跃信号\n",
    "     if x>=c:\n",
    "          r=1.0\n",
    "     else:\n",
    "          r=0.0\n",
    "     return r\n",
    "\n",
    "x=np.linspace(-1,2,1000)\n",
    "y=np.array([unitstep_wave(t,0.0) for t in x])\n",
    "plt.ylim(-0.2,1.2)\n",
    "plt.plot(x,y)\n",
    "plt.show()"
   ]
  },
  {
   "cell_type": "markdown",
   "id": "711e0885",
   "metadata": {},
   "source": [
    "### - <font size=3 color=DarkOrChid>示例3：斜坡函数</font>"
   ]
  },
  {
   "cell_type": "code",
   "execution_count": 5,
   "id": "2a8384f8",
   "metadata": {
    "scrolled": true
   },
   "outputs": [
    {
     "data": {
      "image/png": "[encoded data removed]",
      "text/plain": [
       "<Figure size 432x288 with 1 Axes>"
      ]
     },
     "metadata": {
      "needs_background": "light"
     },
     "output_type": "display_data"
    }
   ],
   "source": [
    "import numpy as np\n",
    "import matplotlib.pyplot as plt\n",
    "\n",
    "def ramp_wave(x,c):     #在c处产生斜坡\n",
    "     if x>=c:\n",
    "          r=x\n",
    "     else:\n",
    "          r=0.0\n",
    "     return r\n",
    "\n",
    "x=np.linspace(-1,2,1000)\n",
    "y=np.array([ramp_wave(t,0.0) for t in x])\n",
    "plt.ylim(-0.2,1.2)\n",
    "plt.plot(x,y)\n",
    "plt.show()"
   ]
  },
  {
   "cell_type": "markdown",
   "id": "cd4165f0",
   "metadata": {},
   "source": [
    "### - <font size=3 color=DarkOrChid>示例4：抛物线函数</font>"
   ]
  },
  {
   "cell_type": "code",
   "execution_count": 6,
   "id": "812658c7",
   "metadata": {
    "scrolled": false
   },
   "outputs": [
    {
     "data": {
      "image/png": "[encoded data removed]",
      "text/plain": [
       "<Figure size 432x288 with 1 Axes>"
      ]
     },
     "metadata": {
      "needs_background": "light"
     },
     "output_type": "display_data"
    }
   ],
   "source": [
    "import numpy as np\n",
    "import matplotlib.pyplot as plt\n",
    "\n",
    "def quad_wave(x,c):     #在c处产生抛物线\n",
    "     if x>=c:\n",
    "          r=x**2\n",
    "     else:\n",
    "          r=0.0\n",
    "     return r\n",
    "\n",
    "x=np.linspace(-1,2,1000)\n",
    "y=np.array([quad_wave(t,0.0) for t in x])\n",
    "plt.ylim(-0.2,1.2)\n",
    "plt.plot(x,y)\n",
    "plt.show()"
   ]
  },
  {
   "cell_type": "code",
   "execution_count": null,
   "id": "a1fedf2e",
   "metadata": {},
   "outputs": [],
   "source": []
  }
 ],
 "metadata": {
  "celltoolbar": "无",
  "kernelspec": {
   "display_name": "Python 3 (ipykernel)",
   "language": "python",
   "name": "python3"
  },
  "language_info": {
   "codemirror_mode": {
    "name": "ipython",
    "version": 3
   },
   "file_extension": ".py",
   "mimetype": "text/x-python",
   "name": "python",
   "nbconvert_exporter": "python",
   "pygments_lexer": "ipython3",
   "version": "3.9.12"
  }
 },
 "nbformat": 4,
 "nbformat_minor": 5
}
