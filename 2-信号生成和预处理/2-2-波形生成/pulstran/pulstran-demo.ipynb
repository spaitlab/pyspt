{
 "cells": [
  {
   "cell_type": "markdown",
   "metadata": {},
   "source": [
    "# 信号处理仿真与应用 - 信号生成和预处理 - 波形生成\n",
    "\n",
    "## pulstran\n",
    "\n",
    "#### Pulse train"
   ]
  },
  {
   "cell_type": "markdown",
   "metadata": {},
   "source": [
    "**和MATLAB波形一致**"
   ]
  },
  {
   "cell_type": "code",
   "execution_count": null,
   "metadata": {},
   "outputs": [],
   "source": [
    "import numpy as np\n",
    "import matplotlib.pyplot as plt\n",
    "from pulstran import pulstran\n",
    "from pulstran import rectpuls\n",
    "\n",
    "# 生成时间序列\n",
    "t = np.arange(0, 60, 1/1e3)\n",
    "\n",
    "# 定义输入数据\n",
    "d = np.column_stack((np.arange(0, 61, 2), np.sin(2*np.pi*0.05*np.arange(0, 61, 2))))\n",
    "\n",
    "# 使用自定义的pulstran函数计算输出\n",
    "y = pulstran(t, d, rectpuls)\n",
    "\n",
    "# 绘制结果\n",
    "plt.plot(t, y)\n",
    "plt.xlabel('Time (s)')\n",
    "plt.ylabel('Waveform')\n",
    "plt.grid(True)\n",
    "plt.show()\n"
   ]
  }
 ],
 "metadata": {
  "kernelspec": {
   "display_name": "Python 3",
   "language": "python",
   "name": "python3"
  },
  "language_info": {
   "name": "python",
   "version": "3.8.17"
  }
 },
 "nbformat": 4,
 "nbformat_minor": 2
}
