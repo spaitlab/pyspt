{
 "cells": [
  {
   "cell_type": "markdown",
   "metadata": {},
   "source": [
    "# 信号处理仿真与应用 - 信号生成和预处理 - 波形生成\n",
    "\n",
    "## rectpuls\n",
    "\n",
    "#### 采样的非周期性矩形"
   ]
  },
  {
   "cell_type": "markdown",
   "metadata": {},
   "source": [
    "**和MATLAB波形一致**"
   ]
  },
  {
   "cell_type": "code",
   "execution_count": null,
   "metadata": {},
   "outputs": [],
   "source": [
    "import numpy as np\n",
    "import matplotlib.pyplot as plt\n",
    "from rectpuls import  rectpuls\n",
    "\n",
    "# 生成时间向量\n",
    "fs = 10e3\n",
    "t = np.arange(-0.1, 0.1, 1/fs)\n",
    "\n",
    "# 定义脉冲宽度\n",
    "w = 20e-3\n",
    "\n",
    "# 生成矩形脉冲信号\n",
    "x = rectpuls(t, w)\n",
    "\n",
    "# 定义过去和未来的时间偏移\n",
    "tpast = -45e-3\n",
    "tfutr = 60e-3\n",
    "\n",
    "# 生成过去和未来的矩形脉冲信号\n",
    "xpast = rectpuls(t - tpast, w)\n",
    "xfutr = rectpuls(t - tfutr, w/2)\n",
    "\n",
    "# 绘制图像\n",
    "plt.plot(t, x, label='Current', color='blue')\n",
    "plt.plot(t, xpast, label='Past', color='red')\n",
    "plt.plot(t, xfutr, label='Future', color='green')\n",
    "plt.ylim([-0.2, 1.2])\n",
    "plt.legend()\n",
    "plt.show()\n"
   ]
  }
 ],
 "metadata": {
  "kernelspec": {
   "display_name": "Python 3",
   "language": "python",
   "name": "python3"
  },
  "language_info": {
   "name": "python",
   "version": "3.8.17"
  }
 },
 "nbformat": 4,
 "nbformat_minor": 2
}
