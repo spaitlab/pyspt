{
 "cells": [
  {
   "cell_type": "markdown",
   "metadata": {},
   "source": [
    "# 信号处理仿真和应用-数字和模拟滤波器-线性系统变换-sos2zp\n",
    "## sos2zp\n",
    "将数字滤波器二阶节系数转换为零极点、增益形式\n",
    "### 和MATLAB中示例数据一致"
   ]
  },
  {
   "cell_type": "code",
   "execution_count": null,
   "metadata": {},
   "outputs": [],
   "source": [
    "import numpy as np\n",
    "from sos2zp import sos2zp\n",
    "\n",
    "# 给定二阶节参数\n",
    "sos = np.array([\n",
    "                [1, 1, 1, 1, 0, -1], \n",
    "                [-2, 3, 1, 1, 10, 1]\n",
    "                ])\n",
    "\n",
    "# 给出二阶节系数下增益\n",
    "g=2"
   ]
  },
  {
   "cell_type": "markdown",
   "metadata": {},
   "source": [
    "### 在Python中采用自定义sos2zp.py实现"
   ]
  },
  {
   "cell_type": "code",
   "execution_count": null,
   "metadata": {},
   "outputs": [],
   "source": [
    "import numpy as np\n",
    "from sos2zp import sos2zp\n",
    "\n",
    "# 给定二阶节参数\n",
    "sos = np.array([\n",
    "                [1, 1, 1, 1, 0, -1], \n",
    "                [-2, 3, 1, 1, 10, 1]\n",
    "                ])\n",
    "\n",
    "# 给出二阶节系数下增益\n",
    "g=2\n",
    "\n",
    "# 使用自定义函数转换为零极点、增益表示形式\n",
    "Z, P, K = sos2zp(sos,g)\n",
    "\n",
    "print('零点：', Z)\n",
    "print('极点：', P)\n",
    "print('增益：', K)"
   ]
  }
 ],
 "metadata": {
  "kernelspec": {
   "display_name": "Python 3",
   "language": "python",
   "name": "python3"
  },
  "language_info": {
   "name": "python",
   "version": "3.9.12"
  }
 },
 "nbformat": 4,
 "nbformat_minor": 2
}
