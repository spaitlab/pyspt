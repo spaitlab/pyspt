{
 "cells": [
  {
   "cell_type": "markdown",
   "metadata": {},
   "source": [
    "# 信号处理仿真和应用-数字和模拟滤波器-线性系统变换-ss2sos\n",
    "## ss2sos\n",
    "将数字滤波器状态空间形式转换为二阶节参数形式\n",
    "### 和MATLAB中示例数据一致"
   ]
  },
  {
   "cell_type": "code",
   "execution_count": null,
   "metadata": {},
   "outputs": [],
   "source": [
    "import numpy as np\n",
    "from scipy.signal import butter, tf2ss\n",
    "\n",
    "# 得到MATLAB中示例的状态空间矩阵\n",
    "b,a=butter(5,0.2)\n",
    "A,B,C,D=tf2ss(b,a)"
   ]
  },
  {
   "cell_type": "markdown",
   "metadata": {},
   "source": [
    "### 在Python中采用自定义ss2sos.py实现"
   ]
  },
  {
   "cell_type": "code",
   "execution_count": null,
   "metadata": {},
   "outputs": [],
   "source": [
    "import numpy as np\n",
    "from scipy.signal import butter, tf2ss\n",
    "from ss2sos import  ss2sos\n",
    "\n",
    "b,a=butter(5,0.2)\n",
    "A,B,C,D=tf2ss(b,a)\n",
    "\n",
    "sos = ss2sos(A, B, C, D)\n",
    "print(\"sos系数矩阵:\", sos)"
   ]
  }
 ],
 "metadata": {
  "kernelspec": {
   "display_name": "Python 3",
   "language": "python",
   "name": "python3"
  },
  "language_info": {
   "name": "python",
   "version": "3.9.12"
  }
 },
 "nbformat": 4,
 "nbformat_minor": 2
}
