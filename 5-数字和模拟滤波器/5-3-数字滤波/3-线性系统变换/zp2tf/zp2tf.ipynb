{
 "cells": [
  {
   "cell_type": "markdown",
   "metadata": {},
   "source": [
    "# 信号处理仿真与应用-数字和模拟滤波器-线性系统变换\n",
    "\n",
    "## zp2tf\n",
    "#### 质量-弹簧系统传递函数\n",
    "**与matlab结果一致**"
   ]
  },
  {
   "cell_type": "code",
   "execution_count": 7,
   "metadata": {},
   "outputs": [
    {
     "name": "stdout",
     "output_type": "stream",
     "text": [
      "[-0.005+0.9999875j -0.005-0.9999875j]\n"
     ]
    }
   ],
   "source": [
    "from scipy.signal import zpk2tf\n",
    "import numpy as np\n",
    "\n",
    "# 给定的MATLAB值\n",
    "k = 1\n",
    "z = np.array([0, 0])  # 使用numpy数组来表示\n",
    "p = np.roots([1, 0.01, 1])  # 使用numpy的roots函数找到根\n",
    "print(p)"
   ]
  },
  {
   "cell_type": "code",
   "execution_count": 3,
   "metadata": {},
   "outputs": [
    {
     "name": "stdout",
     "output_type": "stream",
     "text": [
      "b (numerator coefficients): [1. 0. 0.]\n",
      "a (denominator coefficients): [1.   0.01 1.  ]\n"
     ]
    }
   ],
   "source": [
    "# 用scipy的zpk2tf函数从零点、极点和增益获取传递函数系数\n",
    "b, a = zpk2tf(z, p, k)\n",
    "\n",
    "# 系数\n",
    "print('b (numerator coefficients):', b)\n",
    "print('a (denominator coefficients):', a)"
   ]
  }
 ],
 "metadata": {
  "kernelspec": {
   "display_name": "Python 3",
   "language": "python",
   "name": "python3"
  },
  "language_info": {
   "codemirror_mode": {
    "name": "ipython",
    "version": 3
   },
   "file_extension": ".py",
   "mimetype": "text/x-python",
   "name": "python",
   "nbconvert_exporter": "python",
   "pygments_lexer": "ipython3",
   "version": "3.11.9"
  }
 },
 "nbformat": 4,
 "nbformat_minor": 2
}
