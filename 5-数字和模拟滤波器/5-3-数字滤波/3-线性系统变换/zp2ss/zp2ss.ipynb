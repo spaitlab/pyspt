{
 "cells": [
  {
   "cell_type": "markdown",
   "metadata": {},
   "source": [
    "# 信号处理仿真与应用-数字和模拟滤波器-线性系统变换\n",
    "\n",
    "## zp2ss\n",
    "#### 质量-弹簧系统的状态空间表示\n",
    "**与matlab结果一致**"
   ]
  },
  {
   "cell_type": "code",
   "execution_count": 4,
   "metadata": {},
   "outputs": [
    {
     "name": "stdout",
     "output_type": "stream",
     "text": [
      "[-0.005+1.j -0.005-1.j]\n"
     ]
    }
   ],
   "source": [
    "from scipy import signal\n",
    "import numpy as np\n",
    "from pprint import pprint\n",
    "\n",
    "# 设置numpy打印选项以提高输出的可读性\n",
    "np.set_printoptions(precision=3, suppress=True)\n",
    "\n",
    "# 定义零点\n",
    "z = np.array([0, 0])\n",
    "\n",
    "# 定义多项式系数并计算极点\n",
    "p = np.roots([1, 0.01, 1])\n",
    "print(p)"
   ]
  },
  {
   "cell_type": "code",
   "execution_count": 5,
   "metadata": {},
   "outputs": [
    {
     "name": "stdout",
     "output_type": "stream",
     "text": [
      "矩阵 A:\n",
      "array([[-0.01, -1.  ],\n",
      "       [ 1.  ,  0.  ]])\n",
      "\n",
      "矩阵 B:\n",
      "array([[1.],\n",
      "       [0.]])\n",
      "\n",
      "矩阵 C:\n",
      "array([[-0.01, -1.  ]])\n",
      "\n",
      "矩阵 D:\n",
      "array([[1.]])\n"
     ]
    }
   ],
   "source": [
    "# 定义增益\n",
    "k = 1\n",
    "\n",
    "# 将ZPK表示转换为状态空间表示\n",
    "A, B, C, D = signal.zpk2ss(z, p, k)\n",
    "\n",
    "# 美化打印矩阵A, B, C, D\n",
    "print(\"矩阵 A:\")\n",
    "pprint(A)\n",
    "print(\"\\n矩阵 B:\")\n",
    "pprint(B)\n",
    "print(\"\\n矩阵 C:\")\n",
    "pprint(C)\n",
    "print(\"\\n矩阵 D:\")\n",
    "pprint(D)"
   ]
  }
 ],
 "metadata": {
  "kernelspec": {
   "display_name": "Python 3",
   "language": "python",
   "name": "python3"
  },
  "language_info": {
   "codemirror_mode": {
    "name": "ipython",
    "version": 3
   },
   "file_extension": ".py",
   "mimetype": "text/x-python",
   "name": "python",
   "nbconvert_exporter": "python",
   "pygments_lexer": "ipython3",
   "version": "3.11.9"
  }
 },
 "nbformat": 4,
 "nbformat_minor": 2
}
