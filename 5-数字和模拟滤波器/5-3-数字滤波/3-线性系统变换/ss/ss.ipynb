{
 "cells": [
  {
   "cell_type": "markdown",
   "metadata": {},
   "source": [
    "# 信号处理仿真和应用-数字和模拟滤波器-线性系统变换-ss\n",
    "## ss\n",
    "将数字滤波器转换为状态空间形式\n",
    "### 和MATLAB中示例数据一致"
   ]
  },
  {
   "cell_type": "code",
   "execution_count": null,
   "metadata": {},
   "outputs": [],
   "source": [
    "from scipy.signal import iirfilter\n",
    "\n",
    "# 设计MATLAB示例中的滤波器低通滤波器\n",
    "order = 6\n",
    "cutoff = 0.2\n",
    "b, a = iirfilter(order, cutoff, btype='low', analog=False, ftype='butter')"
   ]
  },
  {
   "cell_type": "markdown",
   "metadata": {},
   "source": [
    "### 直接使用Python内部函数tf2ss完成MATLAB示例"
   ]
  },
  {
   "cell_type": "code",
   "execution_count": null,
   "metadata": {},
   "outputs": [],
   "source": [
    "import numpy as np\n",
    "from scipy.signal import iirfilter, tf2ss\n",
    "\n",
    "# 设计 IIR 低通滤波器\n",
    "order = 6\n",
    "cutoff = 0.2\n",
    "b, a = iirfilter(order, cutoff, btype='low', analog=False, ftype='butter')\n",
    "\n",
    "# 将滤波器转换为状态空间表示\n",
    "A, B, C, D = tf2ss(b,a)\n",
    "\n",
    "# 打印状态空间表示的参数\n",
    "print(\"A矩阵:\\n\", A)\n",
    "print(\"B矩阵:\\n\", B)\n",
    "print(\"C矩阵:\\n\", C)\n",
    "print(\"D矩阵:\\n\", D)"
   ]
  }
 ],
 "metadata": {
  "kernelspec": {
   "display_name": "Python 3",
   "language": "python",
   "name": "python3"
  },
  "language_info": {
   "name": "python",
   "version": "3.9.12"
  }
 },
 "nbformat": 4,
 "nbformat_minor": 2
}
