{
 "cells": [
  {
   "cell_type": "markdown",
   "metadata": {},
   "source": [
    "# 信号处理仿真和应用-数字和模拟滤波器-线性系统变换-sos2tf\n",
    "## sos2tf\n",
    "将数字滤波器二阶节系数转换为传递函数\n",
    "### 和MATLAB中示例数据一致"
   ]
  },
  {
   "cell_type": "code",
   "execution_count": null,
   "metadata": {},
   "outputs": [],
   "source": [
    "import numpy as np\n",
    "\n",
    "# 给定二阶节系数\n",
    "sos = np.array([\n",
    "                [1, 1, 1, 1, 0, -1],\n",
    "                [-2, 3, 1, 1, 10, 1]\n",
    "                ])\n",
    "\n",
    "# 增益因子\n",
    "g=2"
   ]
  },
  {
   "cell_type": "markdown",
   "metadata": {},
   "source": [
    "### 在Python中采用自定义sos2tf.py实现"
   ]
  },
  {
   "cell_type": "code",
   "execution_count": null,
   "metadata": {},
   "outputs": [],
   "source": [
    "from sos2tf import sos2tf\n",
    "import numpy as np\n",
    "# 给定二阶节系数\n",
    "sos = np.array([\n",
    "                [1, 1, 1, 1, 0, -1],\n",
    "                [-2, 3, 1, 1, 10, 1]\n",
    "                ])\n",
    "\n",
    "# 增益因子\n",
    "g=2\n",
    "\n",
    "# 使用自定义的sos2tf函数将二阶节系数转换为有理多项式形式，并应用增益因子\n",
    "b, a = sos2tf(sos,g)\n",
    "\n",
    "# 显示转换后的有理多项式系数\n",
    "print(\"分子多项式系数:\", b)\n",
    "print(\"分母多项式系数:\", a)"
   ]
  }
 ],
 "metadata": {
  "kernelspec": {
   "display_name": "Python 3",
   "language": "python",
   "name": "python3"
  },
  "language_info": {
   "name": "python",
   "version": "3.9.12"
  }
 },
 "nbformat": 4,
 "nbformat_minor": 2
}
