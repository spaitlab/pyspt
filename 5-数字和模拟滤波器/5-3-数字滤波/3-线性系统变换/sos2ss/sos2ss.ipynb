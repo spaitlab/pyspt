{
 "cells": [
  {
   "cell_type": "markdown",
   "metadata": {},
   "source": [
    "# 信号处理仿真和应用-数字和模拟滤波器-线性系统变换-sos2ss\n",
    "## sos2ss\n",
    "将数字滤波器二阶节参数转换为状态空间形式\n",
    "### 和MATLAB中示例数据一致"
   ]
  },
  {
   "cell_type": "code",
   "execution_count": null,
   "metadata": {},
   "outputs": [],
   "source": [
    "import numpy as np\n",
    "\n",
    "sos = np.array([\n",
    "                 [1, 1, 1, 1, 0, -1],\n",
    "                 [-2, 3, 1, 1, 10, 1]\n",
    "                ])\n",
    "\n",
    "# 定义系统增益因子\n",
    "g=2"
   ]
  },
  {
   "cell_type": "markdown",
   "metadata": {},
   "source": [
    "### 在Python中采用自定义sos2ss.py实现"
   ]
  },
  {
   "cell_type": "code",
   "execution_count": null,
   "metadata": {},
   "outputs": [],
   "source": [
    "from sos2ss import sos2ss\n",
    "import numpy as np\n",
    "\n",
    "sos = np.array([\n",
    "                 [1, 1, 1, 1, 0, -1],\n",
    "                 [-2, 3, 1, 1, 10, 1]\n",
    "                ])\n",
    "\n",
    "# 定义系统增益因子\n",
    "g=2\n",
    "\n",
    "# 将二阶节系数和增益作为输入参数\n",
    "A, B, C, D = sos2ss(sos,g)\n",
    "\n",
    "print(\"A 矩阵:\")\n",
    "print(A)\n",
    "print(\"B 矩阵:\")\n",
    "print(B)\n",
    "print(\"C 矩阵:\")\n",
    "print(C)\n",
    "print(\"D 矩阵:\")\n",
    "print(D)"
   ]
  }
 ],
 "metadata": {
  "kernelspec": {
   "display_name": "Python 3",
   "language": "python",
   "name": "python3"
  },
  "language_info": {
   "name": "python",
   "version": "3.9.12"
  }
 },
 "nbformat": 4,
 "nbformat_minor": 2
}
