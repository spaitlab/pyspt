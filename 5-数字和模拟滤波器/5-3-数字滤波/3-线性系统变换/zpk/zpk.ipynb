{
 "cells": [
  {
   "cell_type": "markdown",
   "metadata": {},
   "source": [
    "# 信号处理仿真与应用-数字和模拟滤波器-线性系统变换\n",
    "\n",
    "## zpk\n",
    "#### 零极增益形式的高通滤波器\n",
    "**与matlab结果一致**"
   ]
  },
  {
   "cell_type": "code",
   "execution_count": 7,
   "metadata": {},
   "outputs": [
    {
     "name": "stdout",
     "output_type": "stream",
     "text": [
      "Zeros: [ (1.021989), (1.015419 + 0.015602j), (1.015419 - 0.015602j), (0.999818 + 0.021805j), (0.999818 - 0.021805j), (0.984581 + 0.015238j), (0.984581 - 0.015238j), (0.978375) ]\n",
      "Poles: [ (-0.670719 + 0.689579j), (-0.670719 - 0.689579j), (-0.687315 + 0.567008j), (-0.687315 - 0.567008j), (-0.739943 + 0.379179j), (-0.739943 - 0.379179j), (-0.783874 + 0.134371j), (-0.783874 - 0.134371j) ]\n",
      "Gain: 0.000012797\n"
     ]
    }
   ],
   "source": [
    "from scipy.signal import iirfilter, tf2zpk\n",
    "\n",
    "# 滤波器的规格参数\n",
    "filter_order = 8\n",
    "passband_freq = 75e3  # 通带频率\n",
    "passband_ripple = 0.2  # 通带波动\n",
    "sample_rate = 200e3    # 采样率\n",
    "\n",
    "# 设计IIR高通滤波器（Chebyshev类型I）\n",
    "b, a = iirfilter(N=filter_order, Wn=passband_freq / (0.5 * sample_rate),\n",
    "                 rp=passband_ripple, btype='high',\n",
    "                 analog=False, ftype='cheby1', output='ba')\n",
    "\n",
    "# 使用tf2zpk转换传递函数系数为零点、极点和增益\n",
    "z, p, k = tf2zpk(b, a)\n",
    "\n",
    "# 格式化输出函数\n",
    "def format_complex_number(c):\n",
    "    real = f\"{c.real:.6f}\"\n",
    "    imag = f\"{abs(c.imag):.6f}\" + \"j\" if c.imag != 0 else \"\"\n",
    "    sign = \"+\" if c.imag >= 0 else \"-\"\n",
    "    return f\"({real} {sign} {imag})\" if imag else f\"({real})\"\n",
    "\n",
    "# 优化后的打印输出\n",
    "print(\"Zeros: [\", \", \".join(format_complex_number(zi) for zi in z), \"]\")\n",
    "print(\"Poles: [\", \", \".join(format_complex_number(pi) for pi in p), \"]\")\n",
    "print(f\"Gain: {k:.9f}\")"
   ]
  }
 ],
 "metadata": {
  "kernelspec": {
   "display_name": "Python 3",
   "language": "python",
   "name": "python3"
  },
  "language_info": {
   "codemirror_mode": {
    "name": "ipython",
    "version": 3
   },
   "file_extension": ".py",
   "mimetype": "text/x-python",
   "name": "python",
   "nbconvert_exporter": "python",
   "pygments_lexer": "ipython3",
   "version": "3.11.9"
  }
 },
 "nbformat": 4,
 "nbformat_minor": 2
}
