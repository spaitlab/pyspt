{
 "cells": [
  {
   "cell_type": "code",
   "execution_count": 1,
   "id": "f5ae4b7e-6aed-46d9-9844-35177fdfdbe7",
   "metadata": {},
   "outputs": [],
   "source": [
    "# %load cheby1.py\n",
    "import numpy as np\n",
    "from scipy import signal\n",
    "\n",
    "def cheby1_filter(order, rp, Wn, btype='low', analog=False, fs=None):\n",
    "    b, a = signal.cheby1(order, rp, Wn, btype=btype, analog=analog, fs=fs)\n",
    "    return b, a"
   ]
  },
  {
   "cell_type": "code",
   "execution_count": null,
   "id": "ae3ab7c2-381a-4b37-8d61-8828b188f341",
   "metadata": {},
   "outputs": [],
   "source": []
  }
 ],
 "metadata": {
  "kernelspec": {
   "display_name": "Python 3 (ipykernel)",
   "language": "python",
   "name": "python3"
  },
  "language_info": {
   "codemirror_mode": {
    "name": "ipython",
    "version": 3
   },
   "file_extension": ".py",
   "mimetype": "text/x-python",
   "name": "python",
   "nbconvert_exporter": "python",
   "pygments_lexer": "ipython3",
   "version": "3.9.0"
  }
 },
 "nbformat": 4,
 "nbformat_minor": 5
}
