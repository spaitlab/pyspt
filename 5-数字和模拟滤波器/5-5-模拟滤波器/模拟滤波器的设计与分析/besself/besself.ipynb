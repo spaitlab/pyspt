{
 "cells": [
  {
   "cell_type": "code",
   "execution_count": 1,
   "id": "c86afa92-b90c-4d59-944b-456ead512d03",
   "metadata": {},
   "outputs": [],
   "source": [
    "# %load  besself.py\n",
    "import math\n",
    "\n",
    "\n",
    "def besself(x, n):\n",
    "    \"\"\"\n",
    "    Compute the Bessel function of the first kind of order n for the given value x.\n",
    "\n",
    "    Parameters:\n",
    "    x (float): The value at which to compute the Bessel function.\n",
    "    n (int): The order of the Bessel function.\n",
    "\n",
    "    Returns:\n",
    "    float: The computed value of the Bessel function.\n",
    "    \"\"\"\n",
    "    return math.besselfn(n, x)"
   ]
  },
  {
   "cell_type": "code",
   "execution_count": null,
   "id": "0b419aeb-1971-4d0e-91ee-fd3976bd153d",
   "metadata": {},
   "outputs": [],
   "source": []
  }
 ],
 "metadata": {
  "kernelspec": {
   "display_name": "Python 3 (ipykernel)",
   "language": "python",
   "name": "python3"
  },
  "language_info": {
   "codemirror_mode": {
    "name": "ipython",
    "version": 3
   },
   "file_extension": ".py",
   "mimetype": "text/x-python",
   "name": "python",
   "nbconvert_exporter": "python",
   "pygments_lexer": "ipython3",
   "version": "3.9.0"
  }
 },
 "nbformat": 4,
 "nbformat_minor": 5
}
