{
 "cells": [
  {
   "cell_type": "code",
   "execution_count": 1,
   "id": "d1d43924-8592-4420-b2a0-c24360584990",
   "metadata": {},
   "outputs": [],
   "source": [
    "# %load butter.py\n",
    "import scipy.signal\n",
    "\n",
    "\tdef butter(n, Wn, btype='low', analog=False, \toutput='ba', fs=None):\n",
    "    \treturn scipy.signal.butter(n, Wn, btype=btype, analog=analog, output=output, fs=fs)"
   ]
  },
  {
   "cell_type": "code",
   "execution_count": null,
   "id": "a7a96957-7e0f-418a-8108-911d0c137e24",
   "metadata": {},
   "outputs": [],
   "source": []
  },
  {
   "cell_type": "code",
   "execution_count": null,
   "id": "ac32d429-d7d5-464c-bfc3-73996c01cf8a",
   "metadata": {},
   "outputs": [],
   "source": []
  }
 ],
 "metadata": {
  "kernelspec": {
   "display_name": "Python 3 (ipykernel)",
   "language": "python",
   "name": "python3"
  },
  "language_info": {
   "codemirror_mode": {
    "name": "ipython",
    "version": 3
   },
   "file_extension": ".py",
   "mimetype": "text/x-python",
   "name": "python",
   "nbconvert_exporter": "python",
   "pygments_lexer": "ipython3",
   "version": "3.9.0"
  }
 },
 "nbformat": 4,
 "nbformat_minor": 5
}
