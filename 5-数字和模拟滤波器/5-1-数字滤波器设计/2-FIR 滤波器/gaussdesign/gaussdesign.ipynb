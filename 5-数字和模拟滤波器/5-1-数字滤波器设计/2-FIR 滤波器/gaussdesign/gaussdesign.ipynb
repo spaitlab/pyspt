{
 "cells": [
  {
   "cell_type": "markdown",
   "id": "a6e345e5",
   "metadata": {},
   "source": [
    "# 信号处理仿真与应用 - 测量和特征提取 - 描述性统计量\n",
    "\n",
    "## gaussdesign\n",
    "\n",
    "#### 高斯FIR脉冲整形滤波器设计"
   ]
  },
  {
   "cell_type": "markdown",
   "id": "c1e98b71",
   "metadata": {},
   "source": [
    "用于GSM GMSK数字蜂窝通信系统的高斯滤波器"
   ]
  },
  {
   "cell_type": "code",
   "execution_count": 5,
   "id": "a56df15d",
   "metadata": {},
   "outputs": [],
   "source": [
    "import numpy as np\n",
    "import matplotlib.pyplot as plt\n",
    "def gaussdesign(bt, span=3, sps=2):\n",
    "    \"\"\"\n",
    "    Design a Gaussian FIR Pulse-Shaping Filter.\n",
    "\n",
    "    Parameters:\n",
    "        bt (float): 3 dB bandwidth-symbol time product.\n",
    "        span (int, optional): Total length of the filter in symbols. Default is 3.\n",
    "        sps (int, optional): Number of samples per symbol. Default is 2.\n",
    "\n",
    "    Returns:\n",
    "        h (ndarray): Coefficients of the Gaussian filter.\n",
    "    \"\"\"\n",
    "    # Check if filter order is even\n",
    "    sps_span = sps * span\n",
    "    if sps_span % 2 != 0:\n",
    "        raise ValueError(\"Filter order must be even.\")\n",
    "\n",
    "    # Calculate filter length\n",
    "    filt_len = sps_span + 1\n",
    "\n",
    "    # Convert to t in which to compute the filter coefficients\n",
    "    t = np.linspace(-span / 2, span / 2, filt_len)\n",
    "\n",
    "    # Compute alpha\n",
    "    alpha = np.sqrt(np.log(2) / 2) / bt\n",
    "\n",
    "    # Compute filter coefficients\n",
    "    h = (np.sqrt(np.pi) / alpha) * np.exp(-(t * np.pi / alpha) ** 2)\n",
    "\n",
    "    # Normalize coefficients\n",
    "    h /= np.sum(h)\n",
    "\n",
    "    return h\n",
    "def impz(b, a=[1], N=20, Fs=1):\n",
    "    \"\"\"\n",
    "    Impulse response plot for discrete-time systems.\n",
    "\n",
    "    Parameters:\n",
    "        b (array_like): Numerator coefficients of the system.\n",
    "        a (array_like, optional): Denominator coefficients of the system. Default is [1].\n",
    "        N (int, optional): Number of points to plot. Default is 20.\n",
    "        Fs (float, optional): Sampling frequency. Default is 1.\n",
    "\n",
    "    Returns:\n",
    "        None (plots the impulse response).\n",
    "    \"\"\"\n",
    "    # Compute impulse response\n",
    "    impulse = np.zeros(N)\n",
    "    impulse[0] = 1\n",
    "    response = np.convolve(b, impulse)\n",
    "\n",
    "    # Plot impulse response\n",
    "    n = np.arange(0, len(response)) / Fs\n",
    "    plt.stem(n, response, basefmt=' ')  # Remove the red baseline\n",
    "    plt.xlabel('(n) samples')\n",
    "    plt.ylabel('Amplitude')\n",
    "    plt.title('Impulse Response')\n",
    "    plt.xlim([0, 30])  # Limit x-axis from 0 to 30\n",
    "    plt.grid(True)\n",
    "    plt.show()\n"
   ]
  },
  {
   "cell_type": "code",
   "execution_count": 6,
   "id": "3943f13b",
   "metadata": {},
   "outputs": [
    {
     "data": {
      "image/png": "[encoded data removed]",
      "text/plain": [
       "<Figure size 640x480 with 1 Axes>"
      ]
     },
     "metadata": {},
     "output_type": "display_data"
    }
   ],
   "source": [
    "# Parameters\n",
    "bt = 0.3  # 3-dB bandwidth\n",
    "symbol_length = 4  # Number of symbols\n",
    "samples_per_symbol = 8  # Number of samples per symbol\n",
    "\n",
    "# Generate Gaussian filter coefficients\n",
    "h = gaussdesign(bt, symbol_length, samples_per_symbol)\n",
    "\n",
    "# Plot the impulse response\n",
    "impz(h)"
   ]
  },
  {
   "cell_type": "code",
   "execution_count": null,
   "id": "80a923a7",
   "metadata": {},
   "outputs": [],
   "source": []
  }
 ],
 "metadata": {
  "kernelspec": {
   "display_name": "Python 3 (ipykernel)",
   "language": "python",
   "name": "python3"
  },
  "language_info": {
   "codemirror_mode": {
    "name": "ipython",
    "version": 3
   },
   "file_extension": ".py",
   "mimetype": "text/x-python",
   "name": "python",
   "nbconvert_exporter": "python",
   "pygments_lexer": "ipython3",
   "version": "3.11.4"
  }
 },
 "nbformat": 4,
 "nbformat_minor": 5
}
