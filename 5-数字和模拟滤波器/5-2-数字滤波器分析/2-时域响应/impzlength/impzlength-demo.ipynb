{
 "cells": [
  {
   "attachments": {},
   "cell_type": "markdown",
   "metadata": {},
   "source": [
    "# 信号处理仿真与应用 - 数字和模拟滤波器取 - 数字滤波器分析\n",
    "\n",
    "## impzlength\n",
    "\n",
    "#### 滤波器脉冲响应长度"
   ]
  },
  {
   "cell_type": "markdown",
   "metadata": {},
   "source": [
    "**给出python函数**"
   ]
  },
  {
   "cell_type": "code",
   "execution_count": 4,
   "metadata": {},
   "outputs": [],
   "source": [
    "import numpy as np\n",
    "from scipy import signal\n",
    "from scipy.signal import ellip, zpk2sos, firwin, butter\n",
    "\n",
    "def impzlength(b, *args):\n",
    "    if isinstance(b, np.ndarray) and b.ndim == 2 and b.shape[1] == 6:\n",
    "        # SOS 矩阵情况\n",
    "       # if not np.isclose(np.linalg.norm(b), 0.0):\n",
    "       #     raise ValueError(\"参数 'b' 必须是非空的 SOS 矩阵.\")\n",
    "\n",
    "        if len(args) > 0:\n",
    "            tol = args[0]\n",
    "        else:\n",
    "            tol = 0.00005\n",
    "        return lclsosimpzlength(b, tol)\n",
    "    else:\n",
    "        # 传递函数情况\n",
    "        isTF = True\n",
    "        if len(args) == 0:\n",
    "            a = np.array([1.0])  # 传递函数的默认 'a'\n",
    "        else:\n",
    "            a = args[0]\n",
    "\n",
    "        if len(args) < 2:\n",
    "            tol = 0.00005\n",
    "        else:\n",
    "            tol = float(args[1])\n",
    "\n",
    "        return calculate_impz_length(b, a, tol, isTF)\n",
    "\n",
    "def calculate_impz_length(b, a, tol, isTF):\n",
    "    if isTF:\n",
    "        # 判断滤波器是否为 FIR（所有 'a' 的元素接近于零）\n",
    "        if np.allclose(a, 0.0, atol=1e-15):\n",
    "            return len(b)  # FIR 滤波器的长度\n",
    "        else:\n",
    "            # 找到向量 b 中第一个非零元素的索引，作为延迟 delay\n",
    "            delay = find_first_nonzero_index(b)\n",
    "\n",
    "            # 根据稳定性和延迟计算长度\n",
    "            p = np.roots(a)\n",
    "            if np.any(np.abs(p) > 1.0001):\n",
    "                N = unstable_length(p)\n",
    "            else:\n",
    "                N = stableNmarginal_length(p, tol, delay)\n",
    "\n",
    "            return int(np.ceil(N))-1  # 确保 N 是整数并向上取整\n",
    "    else:\n",
    "        return lclsosimpzlength(b, tol)\n",
    "\n",
    "def find_first_nonzero_index(arr):\n",
    "    # 找到数组 arr 中第一个非零元素的索引\n",
    "    indices = np.nonzero(arr)[0]  # 找到所有非零元素的索引\n",
    "    if len(indices) == 0:\n",
    "        return 0  # 如果数组中没有非零元素，返回索引 0（默认延迟为 0）\n",
    "    else:\n",
    "        return indices[0]  # 返回第一个非零元素的索引\n",
    "\n",
    "def unstable_length(p):\n",
    "    ind = np.abs(p) > 1\n",
    "    return int(6 / np.log10(np.max(np.abs(p[ind]))))\n",
    "\n",
    "def stableNmarginal_length(p, tol, delay):\n",
    "    n = len(p)\n",
    "    nOscillation = 0\n",
    "    indOscillation = []\n",
    "    nDamped = 0\n",
    "    indDamped = []\n",
    "\n",
    "    # 遍历极点 p\n",
    "    for i in range(n):\n",
    "        # 如果极点接近于1，则取其相反数\n",
    "        if np.abs(p[i] - 1) < 1e-5:\n",
    "            p[i] = -p[i]\n",
    "        \n",
    "        # 判断极点是振荡还是非振荡\n",
    "        if np.abs(np.abs(p[i]) - 1) < 1e-5:\n",
    "            nOscillation += 1\n",
    "            indOscillation.append(i)\n",
    "        else:\n",
    "            nDamped += 1\n",
    "            indDamped.append(i)\n",
    "\n",
    "    if nOscillation == n:  # 全部为振荡极点\n",
    "        periods = 5 * np.max(2 * np.pi / np.abs(np.angle(p)))\n",
    "        N = periods\n",
    "    elif nOscillation == 0:  # 全部为非振荡极点\n",
    "        maxp = np.max(np.abs(p))\n",
    "        maxind = np.argmax(np.abs(p))\n",
    "        multiplicity = mltplcty(p, maxind, tol)\n",
    "        N = multiplicity * np.log10(tol) / np.log10(maxp) + delay\n",
    "    else:  # 部分振荡部分非振荡\n",
    "        pOscillation = p[indOscillation]\n",
    "        pDamped = p[indDamped]\n",
    "        periods = 5 * np.max(2 * np.pi / np.abs(np.angle(pOscillation)))\n",
    "        maxp = np.max(np.abs(pDamped))\n",
    "        maxind = np.argmax(np.abs(pDamped))\n",
    "        multiplicity = mltplcty(pDamped, maxind, tol)\n",
    "        N = max(periods, multiplicity * np.log10(tol) / np.log10(maxp)) + delay\n",
    "\n",
    "    return N\n",
    "\n",
    "def mltplcty(p, ind, tol=0.001):\n",
    "    if np.any(p == 0):\n",
    "        thresh = np.float(tol)\n",
    "    else:\n",
    "        thresh = tol * np.abs(p[ind])\n",
    "    \n",
    "    m = 0\n",
    "    for i in range(len(p)):\n",
    "        if np.abs(p[i] - p[ind]) < thresh:\n",
    "            m += 1\n",
    "    \n",
    "    return m\n",
    "\n",
    "def lclsosimpzlength(sos, tol):\n",
    "    firlen = 1\n",
    "    iirlen = 1\n",
    "    num_sections = sos.shape[0]\n",
    "    for k in range(num_sections):\n",
    "        b = sos[k, 0:3]\n",
    "        a = sos[k, 3:6]\n",
    "        if np.allclose(a, 0.0, atol=1e-15):\n",
    "            return len(b)  # FIR 滤波器的长度\n",
    "        else:\n",
    "            iirlen = max(iirlen, impzlength(b, a, tol))\n",
    "    return max(firlen, iirlen)"
   ]
  },
  {
   "cell_type": "markdown",
   "metadata": {},
   "source": [
    "**采用文件调用**\n",
    "\n",
    "示例1\n",
    "\n",
    "创建一个极点为 0.9 的低通全极点 IIR 滤波器。计算有效脉冲响应长度。获取脉冲响应。绘制结果图。"
   ]
  },
  {
   "cell_type": "code",
   "execution_count": 5,
   "metadata": {},
   "outputs": [
    {
     "name": "stdout",
     "output_type": "stream",
     "text": [
      "Impulse response length N: 93\n"
     ]
    },
    {
     "data": {
      "image/png": "[encoded data removed]",
      "text/plain": [
       "<Figure size 640x480 with 1 Axes>"
      ]
     },
     "metadata": {},
     "output_type": "display_data"
    }
   ],
   "source": [
    "import numpy as np\n",
    "from scipy import signal\n",
    "import matplotlib.pyplot as plt\n",
    "from scipy.signal import ellip, zpk2sos, firwin, butter\n",
    "from impzlength import impzlength\n",
    "from impz import impz\n",
    "\n",
    "# 示例1\n",
    "b = np.array([1.0])\n",
    "a = np.array([1.0, -0.9])\n",
    "N = impzlength(b,a)\n",
    "print(\"Impulse response length N:\", N)\n",
    "num_samples = 93\n",
    "h, t = impz(b, a, num_samples)\n",
    "# 绘制脉冲响应图\n",
    "plt.stem(t,h)\n",
    "plt.title('Impulse Response ')\n",
    "plt.xlabel('n (samples)')\n",
    "plt.ylabel('Amplitude')\n",
    "plt.grid(True)\n",
    "plt.show()"
   ]
  },
  {
   "cell_type": "markdown",
   "metadata": {},
   "source": [
    "**采用文件调用**\n",
    "\n",
    "示例2\n",
    "\n",
    "设计了一个截止频率为0.4πrad/sample的四阶低通椭圆滤波器。指定1dB的通带纹波和60 dB的阻带衰减。将滤波器设计为极点零增益形式，并使用zp2sos获得二阶截面矩阵。根据二阶截面矩阵确定有效脉冲响应序列长度。"
   ]
  },
  {
   "cell_type": "code",
   "execution_count": 6,
   "metadata": {},
   "outputs": [
    {
     "name": "stdout",
     "output_type": "stream",
     "text": [
      "Impulse response length N: 80\n"
     ]
    }
   ],
   "source": [
    "import numpy as np\n",
    "from scipy import signal\n",
    "from scipy.signal import ellip, zpk2sos, firwin, butter\n",
    "from impzlength import impzlength\n",
    "\n",
    "# 示例2\n",
    "# 设计椭圆低通滤波器\n",
    "N = 4  # 滤波器阶数\n",
    "rp = 1  # 通带最大允许波纹（dB）\n",
    "rs = 60  # 阻带最小衰减（dB）\n",
    "cutoff = 0.4  # 截止频率（归一化频率，范围为0到1）\n",
    "# 设计椭圆滤波器\n",
    "b, a = ellip(N, rp, rs, cutoff, output='ba')\n",
    "# 获取零极点增益（ZPK）表示\n",
    "z, p, k = ellip(N, rp, rs, cutoff, output='zpk')\n",
    "# 将零极点表示转换为二阶段（Second-Order Sections，SOS）表示\n",
    "sos = zpk2sos(z, p, k)\n",
    "N = impzlength(sos)\n",
    "print(\"Impulse response length N:\", N)\n",
    "plt.show()"
   ]
  }
 ],
 "metadata": {
  "kernelspec": {
   "display_name": "base",
   "language": "python",
   "name": "python3"
  },
  "language_info": {
   "codemirror_mode": {
    "name": "ipython",
    "version": 3
   },
   "file_extension": ".py",
   "mimetype": "text/x-python",
   "name": "python",
   "nbconvert_exporter": "python",
   "pygments_lexer": "ipython3",
   "version": "3.11.5"
  },
  "orig_nbformat": 4
 },
 "nbformat": 4,
 "nbformat_minor": 2
}
