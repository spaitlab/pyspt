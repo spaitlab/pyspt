{
 "cells": [
  {
   "attachments": {},
   "cell_type": "markdown",
   "metadata": {},
   "source": [
    "# 信号处理仿真与应用 - 数字和模拟滤波器取 - 数字滤波器分析\n",
    "\n",
    "## filtord\n",
    "\n",
    "#### 滤波器阶数"
   ]
  },
  {
   "cell_type": "markdown",
   "metadata": {},
   "source": [
    "**给出python函数**"
   ]
  },
  {
   "cell_type": "code",
   "execution_count": 1,
   "metadata": {},
   "outputs": [],
   "source": [
    "import numpy as np\n",
    "from scipy.signal import firwin, iirfilter\n",
    "\n",
    "def filtord(b, *args):\n",
    "    if len(args) == 0:\n",
    "        a = [1]  # Assume FIR for now\n",
    "    else:\n",
    "        a = args[0]\n",
    "    a = np.asarray(a)\n",
    "    \n",
    "    # Cast to precision rules\n",
    "    if np.issubdtype(b.dtype, np.float32) or np.issubdtype(a.dtype, np.float32):\n",
    "        convClass = np.float32\n",
    "    else:\n",
    "        convClass = np.float64\n",
    "    \n",
    "    b = b.astype(convClass)\n",
    "    a = a.astype(convClass)\n",
    "\n",
    "    # If b is SOS or vector\n",
    "    if len(args) == 0:\n",
    "        a1 = a\n",
    "        if np.ndim(b) == 1:\n",
    "            # If input is column vector, transpose to obtain row vectors\n",
    "            if b.ndim == 2 and b.shape[1] == 6:\n",
    "                # Check if input is a valid SOS matrix\n",
    "                raise ValueError('Invalid SOS matrix dimensions')\n",
    "            b1 = b.reshape(1, -1)\n",
    "        else:\n",
    "            # If input is a matrix, check if it is a valid SOS matrix\n",
    "            if b.shape[1] != 6:\n",
    "                raise ValueError('Invalid SOS matrix dimensions')\n",
    "            b1, a1 = sos2tf(b)\n",
    "    else:  # If b and a are vectors\n",
    "        # If b is not a vector, then only one input is supported\n",
    "        if b.ndim > 1 and b.shape[0] > 1 and b.shape[1] > 1:\n",
    "            raise ValueError('Invalid number of inputs')\n",
    "        \n",
    "        # If a is not a vector\n",
    "        if a.ndim > 1 and a.shape[0] > 1 and a.shape[1] > 1:\n",
    "            raise ValueError('Input not supported')\n",
    "        \n",
    "        b1 = b\n",
    "        a1 = a\n",
    "        \n",
    "        \n",
    "        # If input is column vector, transpose to obtain row vectors\n",
    "        if b.ndim == 2 and b.shape[1] == 1:\n",
    "            b1 = b.T\n",
    "        \n",
    "        if a.ndim == 2 and a.shape[1] == 1:\n",
    "            a1 = a.T\n",
    "\n",
    "    # Normalizing the filter coefficients\n",
    "    if not np.allclose(b1, 0):\n",
    "        maxCoefNum = np.max(np.abs(b1))\n",
    "        b1 /= maxCoefNum\n",
    "    \n",
    "    if not np.allclose(a1, 0):\n",
    "        maxCoefDen = np.max(np.abs(a1))\n",
    "        a1 /= maxCoefDen\n",
    "    \n",
    "    # Returning the index of the last nonzero coefficient\n",
    "    nZeroLastNum = np.flatnonzero(b1)[-1] if not np.allclose(b1, 0) else 0\n",
    "    nZeroLastDen = np.flatnonzero(a1)[-1] if not np.allclose(a1, 0) else 0\n",
    "    \n",
    "    # Filter order n is maximum of the last nonzero coefficient subtracted by 1\n",
    "    n = max(nZeroLastNum, nZeroLastDen)\n",
    "    \n",
    "    return n\n",
    "\n",
    "\n",
    "# Placeholder for sos2tf function (not implemented in this example)\n",
    "def sos2tf(b):\n",
    "    # Implement SOS to TF conversion if needed\n",
    "    raise NotImplementedError(\"sos2tf function is not implemented\")"
   ]
  },
  {
   "cell_type": "markdown",
   "metadata": {},
   "source": [
    "**采用文件调用**\n",
    "\n",
    "示例1\n",
    "\n",
    "采用窗口法设计了一个归一化截止频率为0.5πrad/sample的20阶FIR滤波器。验证滤波器阶数。"
   ]
  },
  {
   "cell_type": "code",
   "execution_count": 2,
   "metadata": {},
   "outputs": [
    {
     "name": "stdout",
     "output_type": "stream",
     "text": [
      "Filter order (n): 20\n"
     ]
    }
   ],
   "source": [
    "import numpy as np\n",
    "from scipy.signal import firwin, iirfilter\n",
    "from filtord import filtord\n",
    "\n",
    "\n",
    "# 示例1\n",
    "# 设计 FIR 滤波器\n",
    "order = 20  # 滤波器阶数\n",
    "cutoff_freq = 0.5  # 截止频率\n",
    "\n",
    "# 计算截止频率对应的归一化频率\n",
    "nyquist_freq = 1  # Nyquist 频率，即采样频率的一半\n",
    "normalized_cutoff_freq = cutoff_freq / nyquist_freq\n",
    "\n",
    "# 使用 firwin 函数设计 FIR 滤波器\n",
    "b = firwin(order + 1, normalized_cutoff_freq, window='hamming')\n",
    "n = filtord(b)\n",
    "print(\"Filter order (n):\", n)"
   ]
  },
  {
   "cell_type": "markdown",
   "metadata": {},
   "source": [
    "**采用文件调用**\n",
    "\n",
    "示例2\n",
    "\n",
    "根据同一组规范设计FIR等波纹滤波器和IIR巴特沃斯滤波器。确定两种设计之间滤波器顺序的差异。"
   ]
  },
  {
   "cell_type": "code",
   "execution_count": 3,
   "metadata": {},
   "outputs": [
    {
     "name": "stdout",
     "output_type": "stream",
     "text": [
      "Filter order (n): 114\n",
      "Filter order (n): 41\n"
     ]
    }
   ],
   "source": [
    "import numpy as np\n",
    "from scipy.signal import firwin, iirfilter\n",
    "from filtord import filtord\n",
    "\n",
    "\n",
    "# 设计低通 FIR 滤波器（equiripple 方法）\n",
    "fir_passband_freq = 100  # 通带频率\n",
    "fir_stopband_freq = 120  # 阻带频率\n",
    "fir_passband_ripple = 0.5  # 通带波纹\n",
    "fir_stopband_attenuation = 60  # 阻带衰减\n",
    "\n",
    "# 计算归一化频率\n",
    "nyquist_freq = 0.5* 1000  # 采样频率的一半\n",
    "normalized_passband_freq = fir_passband_freq / nyquist_freq\n",
    "normalized_stopband_freq = fir_stopband_freq / nyquist_freq\n",
    "\n",
    "# 计算滤波器系数（FIR）\n",
    "fir_coeffs = firwin(numtaps=115, cutoff=normalized_passband_freq, \\\n",
    "                         width=None, window='hamming', pass_zero=True, \\\n",
    "                         scale=True, fs=None)\n",
    "n = filtord(fir_coeffs)\n",
    "print(\"Filter order (n):\", n)\n",
    "\n",
    "# 设计低通 IIR 滤波器（Butterworth 方法）\n",
    "iir_passband_freq = 100  # 通带频率\n",
    "iir_stopband_freq = 120  # 阻带频率\n",
    "iir_passband_ripple = 0.5  # 通带波纹\n",
    "iir_stopband_attenuation = 60  # 阻带衰减\n",
    "\n",
    "# 计算归一化频率\n",
    "nyquist_freq = 0.5 * 1000  # 采样频率的一半\n",
    "normalized_passband_freq = iir_passband_freq / nyquist_freq\n",
    "normalized_stopband_freq = iir_stopband_freq / nyquist_freq\n",
    "\n",
    "# 设计滤波器（IIR）\n",
    "b, a = iirfilter(41, normalized_passband_freq, btype='low', analog=False, ftype='butter', output='ba', fs=1000)\n",
    "n = filtord(b,a)\n",
    "print(\"Filter order (n):\", n)"
   ]
  }
 ],
 "metadata": {
  "kernelspec": {
   "display_name": "base",
   "language": "python",
   "name": "python3"
  },
  "language_info": {
   "codemirror_mode": {
    "name": "ipython",
    "version": 3
   },
   "file_extension": ".py",
   "mimetype": "text/x-python",
   "name": "python",
   "nbconvert_exporter": "python",
   "pygments_lexer": "ipython3",
   "version": "3.11.5"
  },
  "orig_nbformat": 4
 },
 "nbformat": 4,
 "nbformat_minor": 2
}
