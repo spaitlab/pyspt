{
 "cells": [
  {
   "attachments": {},
   "cell_type": "markdown",
   "metadata": {},
   "source": [
    "# 信号处理仿真与应用 - 数字和模拟滤波器 - 数字滤波器分析\n",
    "\n",
    "## isstable"
   ]
  },
  {
   "cell_type": "code",
   "execution_count": 1,
   "metadata": {},
   "outputs": [
    {
     "name": "stdout",
     "output_type": "stream",
     "text": [
      "系统是否稳定？ False\n"
     ]
    }
   ],
   "source": [
    "import control as ctl\n",
    "import numpy as np\n",
    "\n",
    "\n",
    "def isstable(b, a):\n",
    "    system = ctl.TransferFunction(b, a)\n",
    "\n",
    "    # 获取系统的极点\n",
    "    poles = ctl.poles(system)\n",
    "\n",
    "    # 判断系统是否稳定（所有极点的实部需要小于0）\n",
    "    return np.all(np.real(poles) < 0)\n",
    "\n",
    "# 定义传递函数，例如：H(s) = 1 / (s^2 + s + 1)\n",
    "b = [1]  # 分子\n",
    "a = [1, 1, -10]  # 分母\n",
    "print(\"系统是否稳定？\", isstable(b, a))\n"
   ]
  }
 ],
 "metadata": {
  "kernelspec": {
   "display_name": "base",
   "language": "python",
   "name": "python3"
  },
  "language_info": {
   "codemirror_mode": {
    "name": "ipython",
    "version": 3
   },
   "file_extension": ".py",
   "mimetype": "text/x-python",
   "name": "python",
   "nbconvert_exporter": "python",
   "pygments_lexer": "ipython3",
   "version": "3.9.19"
  },
  "orig_nbformat": 4
 },
 "nbformat": 4,
 "nbformat_minor": 2
}
