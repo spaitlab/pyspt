{
 "cells": [
  {
   "attachments": {},
   "cell_type": "markdown",
   "metadata": {},
   "source": [
    "# 信号处理仿真与应用 - 数字和模拟滤波器 - 数字滤波器分析\n",
    "\n",
    "## isallpass \n",
    "\n",
    "#### 全通滤波器"
   ]
  },
  {
   "cell_type": "markdown",
   "metadata": {},
   "source": [
    "**采用文件调用**"
   ]
  },
  {
   "cell_type": "code",
   "execution_count": 1,
   "metadata": {},
   "outputs": [
    {
     "name": "stdout",
     "output_type": "stream",
     "text": [
      "The filter is an allpass filter.\n"
     ]
    }
   ],
   "source": [
    "import numpy as np\n",
    "from is_allpass_filter import is_allpass_filter\n",
    "\n",
    "# 示例\n",
    "b = np.array([1/3, 1/4, 1/5, 1])\n",
    "a = np.flip(b)\n",
    "\n",
    "is_allpass = is_allpass_filter(b, a)\n",
    "\n",
    "if is_allpass:\n",
    "    print(\"The filter is an allpass filter.\")\n",
    "else:\n",
    "    print(\"The filter is not an allpass filter.\")\n",
    "\n"
   ]
  },
  {
   "cell_type": "code",
   "execution_count": 2,
   "metadata": {},
   "outputs": [
    {
     "name": "stdout",
     "output_type": "stream",
     "text": [
      "The filter is an allpass filter.\n"
     ]
    }
   ],
   "source": [
    "import numpy as np  \n",
    "from is_allpass_filter import is_allpass_filter\n",
    "   \n",
    "b = np.array([0.2, 0.4, 0.6, 0.8, 1])  \n",
    "a = np.array([1, 0.8, 0.6, 0.4, 0.2]) \n",
    "is_allpass = is_allpass_filter(b, a)\n",
    "\n",
    "if is_allpass:\n",
    "    print(\"The filter is an allpass filter.\")\n",
    "else:\n",
    "    print(\"The filter is not an allpass filter.\")\n",
    "\n",
    "\n"
   ]
  }
 ],
 "metadata": {
  "kernelspec": {
   "display_name": "base",
   "language": "python",
   "name": "python3"
  },
  "language_info": {
   "codemirror_mode": {
    "name": "ipython",
    "version": 3
   },
   "file_extension": ".py",
   "mimetype": "text/x-python",
   "name": "python",
   "nbconvert_exporter": "python",
   "pygments_lexer": "ipython3",
   "version": "3.9.19"
  },
  "orig_nbformat": 4
 },
 "nbformat": 4,
 "nbformat_minor": 2
}
