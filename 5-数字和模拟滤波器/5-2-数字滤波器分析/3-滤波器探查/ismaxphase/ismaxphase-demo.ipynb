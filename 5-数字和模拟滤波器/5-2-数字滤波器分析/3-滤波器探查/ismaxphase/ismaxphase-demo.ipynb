{
 "cells": [
  {
   "attachments": {},
   "cell_type": "markdown",
   "metadata": {},
   "source": [
    "# 信号处理仿真与应用 - 数字和模拟滤波器 - 数字滤波器分析\n",
    "\n",
    "## ismaxphase\n",
    "\n",
    "#### 最大和最小相位滤波器"
   ]
  },
  {
   "cell_type": "markdown",
   "metadata": {},
   "source": [
    "**采用文件调用**"
   ]
  },
  {
   "cell_type": "code",
   "execution_count": 10,
   "metadata": {},
   "outputs": [
    {
     "name": "stdout",
     "output_type": "stream",
     "text": [
      "True\n",
      "True\n"
     ]
    }
   ],
   "source": [
    "import numpy as np\n",
    "\n",
    "from is_max_phase import ismaxphase\n",
    "\n",
    "\n",
    "# 示例案例\n",
    "b = np.array([1, -0.9999], dtype=np.float32)\n",
    "a = np.array([1, 0.45], dtype=np.float32)\n",
    "max_flag1 = ismaxphase(b, a)\n",
    "print(max_flag1)\n",
    "\n",
    "max_flag2 = ismaxphase(b, a, 1e-1000)\n",
    "print(max_flag2)\n",
    "\n"
   ]
  },
  {
   "cell_type": "markdown",
   "metadata": {},
   "source": [
    "**直接调用函数**"
   ]
  },
  {
   "cell_type": "code",
   "execution_count": 12,
   "metadata": {},
   "outputs": [
    {
     "name": "stdout",
     "output_type": "stream",
     "text": [
      "Is the filter maximum phase with default tolerance? True\n",
      "Is the filter maximum phase with tolerance of 1e-3? True\n"
     ]
    }
   ],
   "source": [
    "import numpy as np  \n",
    "from scipy.signal import freqz\n",
    "\n",
    "def ismaxphase(b, a=None, tol=np.finfo(float).eps**(2/3)):  \n",
    "    \"\"\"  \n",
    "    判断滤波器是否为最大相位滤波器。  \n",
    "      \n",
    "    参数:  \n",
    "    b : np.ndarray  \n",
    "        滤波器的分子系数。  \n",
    "    a : np.ndarray, 可选  \n",
    "        滤波器的分母系数。如果未提供，则假设为FIR滤波器（a=[1]）。  \n",
    "    tol : float, 可选  \n",
    "        容差值，用于确定相位是否足够接近零来被认为是最大相位。  \n",
    "      \n",
    "    返回:  \n",
    "    f : bool  \n",
    "        如果滤波器是最大相位滤波器，返回True；否则返回False。  \n",
    "    \"\"\"  \n",
    "    # 如果未提供分母系数，则假设为FIR滤波器  \n",
    "    if a is None:  \n",
    "        a = np.array([1])  \n",
    "  \n",
    "    # 检查输入是否为SOS矩阵  \n",
    "    if b.ndim == 2 and b.shape[1] == 6:  \n",
    "        # 输入是SOS矩阵，检查每个SOS部分是否为最大相位  \n",
    "        for bi, ai in b:  \n",
    "            w, h = freqz(bi, ai)  \n",
    "            phase = np.unwrap(np.angle(h))  \n",
    "            if not np.all(phase >= -tol):  \n",
    "                return False  \n",
    "        return True  \n",
    "    else:  \n",
    "        # 输入是分子和分母系数  \n",
    "        w, h = freqz(b, a)  \n",
    "        phase = np.unwrap(np.angle(h))  \n",
    "        # 检查相位是否非负  \n",
    "        return np.all(phase >= -tol)   \n",
    "\n",
    "# 定义滤波器系数  \n",
    "b = np.array([1, -0.9999], dtype=np.float32)  \n",
    "a = np.array([1, 0.45], dtype=np.float32)  \n",
    "  \n",
    "# 使用默认容差值判断是否为最大相位滤波器  \n",
    "max_flag1 = ismaxphase(b, a)  \n",
    "print(\"Is the filter maximum phase with default tolerance?\", max_flag1)  # 应该是 False  \n",
    "  \n",
    "# 使用指定的容差值1e-3判断是否为最大相位滤波器  \n",
    "max_flag2 = ismaxphase(b, a, 1e-3)  \n",
    "print(\"Is the filter maximum phase with tolerance of 1e-3?\", max_flag2)  # 应该是 True"
   ]
  }
 ],
 "metadata": {
  "kernelspec": {
   "display_name": "base",
   "language": "python",
   "name": "python3"
  },
  "language_info": {
   "codemirror_mode": {
    "name": "ipython",
    "version": 3
   },
   "file_extension": ".py",
   "mimetype": "text/x-python",
   "name": "python",
   "nbconvert_exporter": "python",
   "pygments_lexer": "ipython3",
   "version": "3.9.19"
  },
  "orig_nbformat": 4
 },
 "nbformat": 4,
 "nbformat_minor": 2
}
