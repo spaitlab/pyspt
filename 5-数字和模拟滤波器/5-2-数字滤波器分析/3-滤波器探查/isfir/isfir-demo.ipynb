{
 "cells": [
  {
   "attachments": {},
   "cell_type": "markdown",
   "metadata": {},
   "source": [
    "# 信号处理仿真与应用 - 数字和模拟滤波器 - 数字滤波器分析\n",
    "\n",
    "\n",
    "## isfir\n",
    "\n",
    "#### FIR和IIR数字滤波器"
   ]
  },
  {
   "cell_type": "code",
   "execution_count": 9,
   "metadata": {},
   "outputs": [
    {
     "name": "stdout",
     "output_type": "stream",
     "text": [
      "Is FIR filter FIR? True\n",
      "Is IIR filter FIR? False\n"
     ]
    }
   ],
   "source": [
    "import numpy as np  \n",
    "from scipy import signal  \n",
    "from isfir import is_fir\n",
    "  \n",
    "# 滤波器阶数  \n",
    "N = 6  \n",
    "  \n",
    "# 采样频率（假设为1 Hz）  \n",
    "Fs = 1.0  \n",
    "  \n",
    "# 通带频率和阻带频率（归一化频率）  \n",
    "Wp = 0.6 / (Fs / 2)  # 通带截止频率  \n",
    "Ws = 0.3 / (Fs / 2)  # 阻带截止频率  \n",
    "  \n",
    "# 设计一个低通FIR滤波器  \n",
    "b_lowpass = signal.firwin(N+1, Ws, pass_zero=False)  \n",
    "  \n",
    "# 将低通滤波器转换为高通滤波器  \n",
    "b_highpass = np.ones(len(b_lowpass))  \n",
    "b_highpass[1:] = -b_lowpass[1:]  \n",
    "  \n",
    "isfirFIR = is_fir(b_highpass, [1.0])  \n",
    "print(f\"Is FIR filter FIR? {isfirFIR}\")  \n",
    "  \n",
    "\n",
    "# 设计一个高通IIR滤波器  \n",
    "N = 6  # 滤波器阶数  \n",
    "Wn = 0.6  # 截止频率（归一化）  \n",
    "Fs = 1.0  # 采样频率（归一化）  \n",
    "  \n",
    "# 使用butterworth滤波器设计高通滤波器  \n",
    "b_hp, a_hp = signal.butter(N, Wn, btype='highpass', analog=False) \n",
    "\n",
    "# 检查滤波器是否为FIR类型，并输出结果  \n",
    "isfirIIR = is_fir(b_hp, a_hp)  \n",
    "print(f\"Is IIR filter FIR? {isfirIIR}\")  # 直接打印结果"
   ]
  }
 ],
 "metadata": {
  "kernelspec": {
   "display_name": "base",
   "language": "python",
   "name": "python3"
  },
  "language_info": {
   "codemirror_mode": {
    "name": "ipython",
    "version": 3
   },
   "file_extension": ".py",
   "mimetype": "text/x-python",
   "name": "python",
   "nbconvert_exporter": "python",
   "pygments_lexer": "ipython3",
   "version": "3.9.19"
  },
  "orig_nbformat": 4
 },
 "nbformat": 4,
 "nbformat_minor": 2
}
