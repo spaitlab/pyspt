{
 "cells": [
  {
   "attachments": {},
   "cell_type": "markdown",
   "metadata": {},
   "source": [
    "# 信号处理仿真与应用 - 数字和模拟滤波器 - 数字滤波器分析\n",
    "\n",
    "## isminphase"
   ]
  },
  {
   "cell_type": "code",
   "execution_count": 1,
   "metadata": {},
   "outputs": [
    {
     "name": "stdout",
     "output_type": "stream",
     "text": [
      "[1.41421356 1.41421356]\n",
      "[0.5]\n",
      "The system is minimum phase: False\n"
     ]
    }
   ],
   "source": [
    "import numpy as np\n",
    "from scipy.signal import tf2zpk\n",
    "\n",
    "\n",
    "def is_min_phase(b, a=1.0):\n",
    "    # Convert transfer function coefficients to zeros, poles, and gain\n",
    "    z, p, k = tf2zpk(b, a)\n",
    "\n",
    "    # Check if all zeros are inside the unit circle\n",
    "    return np.all(np.abs(z) < 1) & np.all(np.abs(p) < 1)\n",
    "\n",
    "\n",
    "# Example usage\n",
    "b = [1, -2, 2]  # Coefficients of the numerator\n",
    "a = [1, 0.5]    # Coefficients of the denominator\n",
    "result = is_min_phase(b, a)\n",
    "print(np.abs(np.roots(b)))\n",
    "print(np.abs(np.roots(a)))\n",
    "print(f\"The system is minimum phase: {result}\")\n"
   ]
  }
 ],
 "metadata": {
  "kernelspec": {
   "display_name": "base",
   "language": "python",
   "name": "python3"
  },
  "language_info": {
   "codemirror_mode": {
    "name": "ipython",
    "version": 3
   },
   "file_extension": ".py",
   "mimetype": "text/x-python",
   "name": "python",
   "nbconvert_exporter": "python",
   "pygments_lexer": "ipython3",
   "version": "3.9.19"
  },
  "orig_nbformat": 4
 },
 "nbformat": 4,
 "nbformat_minor": 2
}
