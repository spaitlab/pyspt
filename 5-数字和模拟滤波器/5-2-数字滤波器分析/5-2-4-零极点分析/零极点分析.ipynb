{
 "cells": [
  {
   "cell_type": "markdown",
   "id": "f5910b3b",
   "metadata": {},
   "source": [
    "# 零极点分析\n",
    "这是一个关于零极点分析的代码"
   ]
  },
  {
   "cell_type": "code",
   "execution_count": 3,
   "id": "31ef59ed",
   "metadata": {},
   "outputs": [
    {
     "data": {
      "image/png": "[encoded data removed]",
      "text/plain": [
       "<Figure size 432x288 with 1 Axes>"
      ]
     },
     "metadata": {
      "needs_background": "light"
     },
     "output_type": "display_data"
    }
   ],
   "source": [
    "import matplotlib.pyplot as plt\n",
    "\n",
    "import numpy as np\n",
    "\n",
    "from scipy import signal\n",
    "\n",
    "from matplotlib.patches import Circle\n",
    "\n",
    " \n",
    "N = 8 # quantization bits\n",
    "\n",
    "Fs = 1000 # sampling frequency\n",
    "\n",
    "a = np.array([1, 1.7, 0.745]) # denominator\n",
    "\n",
    "b = np.array([0.05, 0, 0]) # numerator\n",
    "\n",
    " \n",
    "# z zero, p pole, k gain\n",
    "\n",
    "z1, p1, k1 = signal.tf2zpk(b,a) # zero, pole and gain\n",
    "\n",
    " \n",
    "c = np.vstack((a,b))\n",
    "\n",
    "Max = (abs(c)).max() #find the largest value\n",
    "\n",
    "a = a / Max #normalization\n",
    "\n",
    "b = b / Max\n",
    "\n",
    " \n",
    "Ra = (a * (2**((N-1)-1))).astype(int) # quantizan and truncate\n",
    "\n",
    "Rb = (b * (2**((N-1)-1))).astype(int)\n",
    "\n",
    "z2, p2, k2 = signal.tf2zpk(Rb,Ra)\n",
    "\n",
    " \n",
    "fig, ax = plt.subplots()\n",
    "\n",
    "circle = Circle(xy = (0.0, 0.0), radius = 1, alpha = 0.9, facecolor = 'white')\n",
    "\n",
    "ax.add_patch(circle)\n",
    "\n",
    "for i in p1:\n",
    "\n",
    " ax.plot(np.real(i),np.imag(i), 'bx') #pole before quantization\n",
    "\n",
    "for i in z1:\n",
    "\n",
    " ax.plot(np.real(i),np.imag(i),'bo') #zero before quantization\n",
    "\n",
    "for i in p2:\n",
    "\n",
    " ax.plot(np.real(i),np.imag(i), 'rx') #pole after quantization\n",
    "\n",
    "for i in z2:\n",
    "\n",
    " ax.plot(np.real(i),np.imag(i),'ro') #zero after quantization\n",
    "\n",
    " \n",
    " \n",
    "ax.set_xlim(-1.8,1.8)\n",
    "\n",
    "ax.set_ylim(-1.2,1.2)\n",
    "\n",
    "ax.grid()\n",
    "\n",
    "ax.set_title(\"%d bit quantization\" %N)\n",
    "\n",
    "plt.show()"
   ]
  }
 ],
 "metadata": {
  "kernelspec": {
   "display_name": "Python 3 (ipykernel)",
   "language": "python",
   "name": "python3"
  },
  "language_info": {
   "codemirror_mode": {
    "name": "ipython",
    "version": 3
   },
   "file_extension": ".py",
   "mimetype": "text/x-python",
   "name": "python",
   "nbconvert_exporter": "python",
   "pygments_lexer": "ipython3",
   "version": "3.9.7"
  }
 },
 "nbformat": 4,
 "nbformat_minor": 5
}
