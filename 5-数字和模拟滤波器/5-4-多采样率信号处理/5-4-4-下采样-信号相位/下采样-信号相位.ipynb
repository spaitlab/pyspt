{
 "cells": [
  {
   "cell_type": "markdown",
   "metadata": {},
   "source": [
    "# 下采样 - 信号相位\n",
    "此示例说明如何使用 downsample 获得信号的相位。以 M 为因子对信号下采样可以产生 M 个唯一相位。例如，如果您有一个离散时间信号 x，它具有 x(0) x(1) x(2) x(3)、...等，则 x 的 M 个相位是 x(nM + k)，其中 k = 0,1, ..., M-1。\n",
    "\n",
    "这 M 个信号称为 x 的多相分量。\n",
    "\n",
    "创建一个白噪声向量，并以 3 为因子下采样以得到 3 个多相分量。\n",
    "\n",
    "将随机数生成器重置为默认设置，以产生可重复的结果。生成一个白噪声随机向量，并以 3 为因子下采样以得到 3 个多相分量。"
   ]
  },
  {
   "cell_type": "code",
   "execution_count": 72,
   "metadata": {},
   "outputs": [],
   "source": [
    "import numpy as np\n",
    "import math\n",
    "import scipy.signal\n",
    "import matplotlib.pyplot as plt"
   ]
  },
  {
   "cell_type": "markdown",
   "metadata": {},
   "source": [
    "降采样函数"
   ]
  },
  {
   "cell_type": "code",
   "execution_count": 73,
   "metadata": {},
   "outputs": [],
   "source": [
    "def downsample(data,rate,phase):\n",
    "    newdata = np.zeros(math.floor(len(data)/rate))\n",
    "\n",
    "    for i in range(0,math.floor(len(data)/rate)):\n",
    "\n",
    "        newdata[i] = data[i*rate+phase]\n",
    "    return newdata\n",
    "\n",
    "    \n",
    "def upsample(data,rate,phase):\n",
    "    newdata = np.zeros(len(data)*rate+phase)\n",
    "\n",
    "    for i in range(0,len(data)):\n",
    "        newdata[i*rate+phase] = data[i]\n",
    "    return newdata"
   ]
  },
  {
   "cell_type": "markdown",
   "metadata": {},
   "source": [
    "多相分量的长度等于原始信号的 1/3。\n",
    "\n",
    "使用 upsample 对多相分量进行以 3 为因子的上采样。"
   ]
  },
  {
   "cell_type": "code",
   "execution_count": 74,
   "metadata": {},
   "outputs": [],
   "source": [
    "x = np.random.randn(36)\n",
    "x0 = downsample(x,3,0)\n",
    "x1 = downsample(x,3,1)\n",
    "x2 = downsample(x,3,2)\n",
    "y0 = upsample(x0,3,0)\n",
    "y1 = upsample(x1,3,1)\n",
    "y2 = upsample(x2,3,2)"
   ]
  },
  {
   "cell_type": "markdown",
   "metadata": {},
   "source": [
    "绘制结果。"
   ]
  },
  {
   "cell_type": "code",
   "execution_count": 75,
   "metadata": {},
   "outputs": [
    {
     "data": {
      "text/plain": [
       "Text(0, 0.5, 'Phase2')"
      ]
     },
     "execution_count": 75,
     "metadata": {},
     "output_type": "execute_result"
    },
    {
     "data": {
      "image/png": "[encoded data removed]",
      "text/plain": [
       "<Figure size 432x288 with 4 Axes>"
      ]
     },
     "metadata": {
      "needs_background": "light"
     },
     "output_type": "display_data"
    }
   ],
   "source": [
    "plt.subplot(411)\n",
    "plt.stem(x,markerfmt=' ')\n",
    "plt.axis([0,40,-3,3])\n",
    "plt.title('Original Signal')\n",
    "plt.subplot(412)\n",
    "plt.stem(y0,markerfmt=' ')\n",
    "plt.axis([0,40,-3,3])\n",
    "plt.ylabel('Phase0')\n",
    "plt.subplot(413)\n",
    "plt.stem(y1,markerfmt=' ')\n",
    "plt.axis([0,40,-3,3])\n",
    "plt.ylabel('Phase1')\n",
    "plt.subplot(414)\n",
    "plt.stem(y2,markerfmt=' ')\n",
    "plt.axis([0,40,-3,3])\n",
    "plt.ylabel('Phase2')"
   ]
  },
  {
   "cell_type": "markdown",
   "metadata": {},
   "source": [
    "如果对上采样的多相分量求和，就可以得到原始信号。\n",
    "\n",
    "创建离散时间正弦信号，并以 2 为因子下采样以得到 2 个多相分量。\n",
    "\n",
    "创建角频率为 $\\pi/4$ 弧度/采样点的离散时间正弦波。将值为 2 的 DC 偏移量加到正弦波上，以帮助进行多相分量的可视化。对正弦波以 2 为因子下采样，以获得偶数和奇数多相分量。"
   ]
  },
  {
   "cell_type": "code",
   "execution_count": 76,
   "metadata": {},
   "outputs": [],
   "source": [
    "n = np.linspace(0,127,128)\n",
    "x = 2 + np.cos(np.pi/4*n)\n",
    "x0 = downsample(x,2,0)\n",
    "x1 = downsample(x,2,1)"
   ]
  },
  {
   "cell_type": "markdown",
   "metadata": {},
   "source": [
    "对两个多相分量进行上采样。"
   ]
  },
  {
   "cell_type": "code",
   "execution_count": 77,
   "metadata": {},
   "outputs": [],
   "source": [
    "y0 = upsample(x0,2,0)\n",
    "y1 = upsample(x1,2,1)"
   ]
  },
  {
   "cell_type": "markdown",
   "metadata": {},
   "source": [
    "绘制上采样后的多相分量和原始信号以进行比较。"
   ]
  },
  {
   "cell_type": "code",
   "execution_count": 78,
   "metadata": {},
   "outputs": [
    {
     "data": {
      "text/plain": [
       "Text(0, 0.5, 'Phase1')"
      ]
     },
     "execution_count": 78,
     "metadata": {},
     "output_type": "execute_result"
    },
    {
     "data": {
      "image/png": "[encoded data removed]",
      "text/plain": [
       "<Figure size 432x288 with 3 Axes>"
      ]
     },
     "metadata": {
      "needs_background": "light"
     },
     "output_type": "display_data"
    }
   ],
   "source": [
    "plt.subplot(311)\n",
    "plt.stem(x,markerfmt=' ')\n",
    "plt.ylim([0.5,3.5])\n",
    "plt.title('Original Signal')\n",
    "plt.subplot(312)\n",
    "plt.stem(y0,markerfmt=' ')\n",
    "plt.ylim([0.5,3.5])\n",
    "plt.ylabel('Phase0')\n",
    "plt.subplot(313)\n",
    "plt.stem(y1,markerfmt=' ')\n",
    "plt.ylim([0.5,3.5])\n",
    "plt.ylabel('Phase1')"
   ]
  },
  {
   "cell_type": "markdown",
   "metadata": {},
   "source": [
    "如果您对两个上采样后的多相分量（相位 0 和相位 1）求和，将得到原始正弦波。"
   ]
  }
 ],
 "metadata": {
  "interpreter": {
   "hash": "c8b08d2241c8157cc559a694afc7fe14d3ec73f4c204ededcfdcbff38dcf9d20"
  },
  "kernelspec": {
   "display_name": "Python 3.10.3 64-bit",
   "language": "python",
   "name": "python3"
  },
  "language_info": {
   "codemirror_mode": {
    "name": "ipython",
    "version": 3
   },
   "file_extension": ".py",
   "mimetype": "text/x-python",
   "name": "python",
   "nbconvert_exporter": "python",
   "pygments_lexer": "ipython3",
   "version": "3.10.3"
  },
  "orig_nbformat": 4
 },
 "nbformat": 4,
 "nbformat_minor": 2
}
