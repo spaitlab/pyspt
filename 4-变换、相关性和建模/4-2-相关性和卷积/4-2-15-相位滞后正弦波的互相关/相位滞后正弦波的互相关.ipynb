{
 "cells": [
  {
   "cell_type": "markdown",
   "metadata": {},
   "source": [
    "# **<font size=4 color=#BB3D00 face=微软雅黑>相位滞后正弦波的互相关</font>**"
   ]
  },
  {
   "cell_type": "markdown",
   "metadata": {},
   "source": [
    "## **<font size=3  face=微软雅黑>※Matlab案例</font>** "
   ]
  },
  {
   "cell_type": "markdown",
   "metadata": {},
   "source": [
    "网址：https://ww2.mathworks.cn/help/signal/ug/cross-correlation-of-phase-lagged-sine-wave.html     \n",
    "描述：本案例由1个示例构成\n",
    "### - <font color=DarkOrChid size=3>示例：如何使用互相关序列来检测噪声损坏序列中的时间延迟</font>"
   ]
  },
  {
   "cell_type": "markdown",
   "metadata": {},
   "source": [
    "## **<font size=3 face=微软雅黑>※Python案例</font>**"
   ]
  },
  {
   "cell_type": "markdown",
   "metadata": {},
   "source": [
    "针对以上案例，采用Python语言实现。"
   ]
  },
  {
   "cell_type": "markdown",
   "metadata": {},
   "source": [
    "### - <font color=DarkOrChid size=3>示例：如何使用互相关序列来检测噪声损坏序列中的时间延迟</font>"
   ]
  },
  {
   "cell_type": "markdown",
   "metadata": {},
   "source": [
    "在理论上两个同频率正弦信号的互相关也以相同的频率震荡。由于样本互相关序列在较大滞后时使用的样本越来越少，样本互相关序列也以相同的频率振荡，但振幅随着滞后的增加而衰减。\n",
    "创建两个频率为$2π/10 rad/sample$的正弦波。其中一个正弦波的起始相位为0，另一个正弦波的起始相位为-π。在相位滞后为π的信号中添加$N(0，0.25^2)$的白噪声。"
   ]
  },
  {
   "cell_type": "code",
   "execution_count": 2,
   "metadata": {},
   "outputs": [],
   "source": [
    "import numpy as np\n",
    "import matplotlib.pyplot as plt"
   ]
  },
  {
   "cell_type": "code",
   "execution_count": 3,
   "metadata": {},
   "outputs": [],
   "source": [
    "t = np.linspace(0,99,100)\n",
    "x = np.cos(2*np.pi*1/10*t)\n",
    "y = np.cos(2*np.pi*1/10*t-np.pi)+0.25*np.random.randn(len(t))"
   ]
  },
  {
   "cell_type": "markdown",
   "metadata": {},
   "source": [
    "得到正弦波两个周期（10个样本）的样本互相关序列。绘制互相关序列，标记两个正弦波之间的已知滞后（5个样本）。"
   ]
  },
  {
   "cell_type": "code",
   "execution_count": 4,
   "metadata": {},
   "outputs": [
    {
     "data": {
      "text/plain": [
       "[<matplotlib.lines.Line2D at 0x2253676d2d0>]"
      ]
     },
     "execution_count": 4,
     "metadata": {},
     "output_type": "execute_result"
    },
    {
     "data": {
      "image/png": "[encoded data removed]",
      "text/plain": [
       "<Figure size 432x288 with 1 Axes>"
      ]
     },
     "metadata": {
      "needs_background": "light"
     },
     "output_type": "display_data"
    }
   ],
   "source": [
    "corr = np.correlate(x,y,'same')\n",
    "corr /= np.max(corr)\n",
    "plt.stem(corr[60:81])\n",
    "plt.xlim([0,20])\n",
    "plt.ylim([-1,1])\n",
    "plt.plot([5,5],[-1,1],'r')"
   ]
  },
  {
   "cell_type": "markdown",
   "metadata": {},
   "source": [
    "可以看到，交叉相关序列在滞后5时如预期的那样达到峰值，并以10个样本的周期振荡。"
   ]
  }
 ],
 "metadata": {
  "interpreter": {
   "hash": "c8b08d2241c8157cc559a694afc7fe14d3ec73f4c204ededcfdcbff38dcf9d20"
  },
  "kernelspec": {
   "display_name": "Python 3 (ipykernel)",
   "language": "python",
   "name": "python3"
  },
  "language_info": {
   "codemirror_mode": {
    "name": "ipython",
    "version": 3
   },
   "file_extension": ".py",
   "mimetype": "text/x-python",
   "name": "python",
   "nbconvert_exporter": "python",
   "pygments_lexer": "ipython3",
   "version": "3.9.12"
  }
 },
 "nbformat": 4,
 "nbformat_minor": 2
}
