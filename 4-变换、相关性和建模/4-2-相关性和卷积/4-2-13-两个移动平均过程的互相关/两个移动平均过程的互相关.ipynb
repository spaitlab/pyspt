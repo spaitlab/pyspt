{
 "cells": [
  {
   "cell_type": "markdown",
   "id": "e0dec5fa",
   "metadata": {},
   "source": [
    "# **<font size=4 color=#BB3D00 face=微软雅黑>两个移动平均过程的互相关</font>**"
   ]
  },
  {
   "cell_type": "markdown",
   "id": "a0ab002e",
   "metadata": {},
   "source": [
    "## **<font size=3  face=微软雅黑>※Matlab案例</font>** "
   ]
  },
  {
   "cell_type": "markdown",
   "id": "9ab5819c",
   "metadata": {},
   "source": [
    "网址：https://ww2.mathworks.cn/help/signal/ug/cross-correlation-of-two-moving-average-processes.html     \n",
    "描述：本案例\n",
    "### - <font color=DarkOrChid size=3>示例：如何查找和绘制两个移动平均过程之间的互相关序列</font>"
   ]
  },
  {
   "cell_type": "markdown",
   "id": "6ced72fd",
   "metadata": {},
   "source": [
    "## **<font size=3 face=微软雅黑>※Python案例</font>**"
   ]
  },
  {
   "cell_type": "markdown",
   "id": "71a73cc2",
   "metadata": {},
   "source": [
    "针对以上案例，采用Python语言实现。"
   ]
  },
  {
   "cell_type": "markdown",
   "id": "9224727e",
   "metadata": {},
   "source": [
    "### - <font color=DarkOrChid size=3>示例：如何查找和绘制两个移动平均过程之间的互相关序列</font>"
   ]
  },
  {
   "cell_type": "markdown",
   "id": "87b40ab7",
   "metadata": {},
   "source": [
    "该示例将样本互相关与理论互相关进行比较。使用两个不同的移动平均滤波器过滤N(0,1)个白噪声输入。绘制样本和理论互相关序列。\n",
    "创建一个$N(0,1）$白噪声序列。将随机数生成器设置为可再现结果的默认设置。创建两个移动平均值过滤器。一个滤波器具有脉冲响应$δ(n)+δ(n−1)$. 另一个滤波器具有脉冲响应$δ(n)−δ(n−1)$."
   ]
  },
  {
   "cell_type": "code",
   "execution_count": 1,
   "id": "ad2687b7",
   "metadata": {},
   "outputs": [],
   "source": [
    "from scipy import signal\n",
    "import numpy as np\n",
    "import matplotlib.pyplot as plt"
   ]
  },
  {
   "cell_type": "markdown",
   "id": "c3f097ec",
   "metadata": {},
   "source": [
    "初始化数据"
   ]
  },
  {
   "cell_type": "code",
   "execution_count": 5,
   "id": "a3b1866c",
   "metadata": {},
   "outputs": [],
   "source": [
    "rng = np.random.default_rng()\n",
    "\n",
    "xn = np.random.randn(100,1)\n",
    "\n",
    "x = signal.lfilter([1,1], 1, xn)\n",
    "x = np.array(x).flatten()\n",
    "y = signal.lfilter([1,-1], 1, xn)\n",
    "y = np.array(y).flatten()"
   ]
  },
  {
   "cell_type": "markdown",
   "id": "765c9cce",
   "metadata": {},
   "source": [
    "定义函数detrend_none\n",
    "\n",
    "    返回x：不删除趋势\n",
    "\n",
    "    参数\n",
    "    ----------\n",
    "    x : 任意对象\n",
    "\n",
    "    axis : 整数\n",
    "\n",
    "    另请参见\n",
    "    --------\n",
    "    detrend_mean : 其他detrend算法\n",
    "    detrend_linear : 其他detrend算法\n",
    "    detrend :所有detrend算法的包装\n",
    "    "
   ]
  },
  {
   "cell_type": "code",
   "execution_count": 6,
   "id": "80d58f88",
   "metadata": {},
   "outputs": [],
   "source": [
    "def detrend_none(x, axis=None):\n",
    "    \n",
    "    return x"
   ]
  },
  {
   "cell_type": "markdown",
   "id": "3d182899",
   "metadata": {},
   "source": [
    "定义函数M_xcorr\n",
    "\n",
    "    绘制x和y之间的互相关\n",
    "\n",
    "\n",
    "    参数\n",
    "    ----------\n",
    "    x, y : 长度为n的类数组\n",
    "\n",
    "    maxlags : 整数, 默认值: 10\n",
    "        要显示的滞后数。如果没有，将返回所有 ``2 * len(x) - 1``\n",
    "        滞后\n",
    "\n",
    "    Returns\n",
    "    -------\n",
    "    lags : 矩阵 (length ``2*maxlags+1``)\n",
    "        滞后向量\n",
    "    c : 矩阵  (length ``2*maxlags+1``)\n",
    "        滞后向量\n",
    "    "
   ]
  },
  {
   "cell_type": "code",
   "execution_count": 7,
   "id": "214fc069",
   "metadata": {},
   "outputs": [],
   "source": [
    "def M_xcorr( x, y, normed=True, detrend=detrend_none,\n",
    "           maxlags=10, **kwargs):\n",
    "    \n",
    "    Nx = len(x)\n",
    "    if Nx != len(y):\n",
    "        raise ValueError('x and y must be equal length')\n",
    "\n",
    "    x = detrend(np.asarray(x))\n",
    "    y = detrend(np.asarray(y))\n",
    "\n",
    "    correls = np.correlate(x, y, mode=\"full\")\n",
    "\n",
    "    if normed:\n",
    "        correls /= np.sqrt(np.dot(x, x) * np.dot(y, y))\n",
    "\n",
    "    if maxlags is None:\n",
    "        maxlags = Nx - 1\n",
    "\n",
    "    if maxlags >= Nx or maxlags < 1:\n",
    "        raise ValueError('maxlags must be None or strictly '\n",
    "                         'positive < %d' % Nx)\n",
    "\n",
    "    lags = np.arange(-maxlags, maxlags + 1)\n",
    "    correls = correls[Nx - 1 - maxlags:Nx + maxlags]\n",
    "\n",
    "\n",
    "    return  correls, lags\n"
   ]
  },
  {
   "cell_type": "code",
   "execution_count": 8,
   "id": "b944acc1",
   "metadata": {},
   "outputs": [
    {
     "data": {
      "image/png": "[encoded data removed]",
      "text/plain": [
       "<Figure size 432x288 with 1 Axes>"
      ]
     },
     "metadata": {
      "needs_background": "light"
     },
     "output_type": "display_data"
    }
   ],
   "source": [
    "[xc,lags] = M_xcorr(x, y, maxlags=20)\n",
    "\n",
    "Xc = np.zeros(np.size(xc))\n",
    "Xc[19] = -1\n",
    "Xc[21] = 1\n",
    "\n",
    "plt.stem(lags,xc, label = '$Sample cross-correlation$')\n",
    "markerline, stemlines, baseline = plt.stem(lags,Xc, linefmt = 'r-', label = '$Theoretical autocorrelation$')\n",
    "plt.setp(stemlines, 'linewidth', 2)\n",
    "plt.grid(True)\n",
    "plt.legend(loc = \"upper left\")\n",
    "plt.axhline(0, color='blue', lw=2)\n",
    "plt.show()"
   ]
  },
  {
   "cell_type": "code",
   "execution_count": null,
   "id": "d04a4dc3",
   "metadata": {},
   "outputs": [],
   "source": []
  }
 ],
 "metadata": {
  "kernelspec": {
   "display_name": "Python 3 (ipykernel)",
   "language": "python",
   "name": "python3"
  },
  "language_info": {
   "codemirror_mode": {
    "name": "ipython",
    "version": 3
   },
   "file_extension": ".py",
   "mimetype": "text/x-python",
   "name": "python",
   "nbconvert_exporter": "python",
   "pygments_lexer": "ipython3",
   "version": "3.9.12"
  }
 },
 "nbformat": 4,
 "nbformat_minor": 5
}
